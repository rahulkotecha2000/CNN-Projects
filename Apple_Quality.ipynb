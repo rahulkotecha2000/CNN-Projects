{
 "cells": [
  {
   "cell_type": "code",
   "execution_count": 1,
   "metadata": {},
   "outputs": [
    {
     "name": "stderr",
     "output_type": "stream",
     "text": [
      "/var/folders/xt/sl7zzj0d22bf4c7qn3fbgdpw0000gn/T/ipykernel_1342/3770603203.py:23: DeprecationWarning: `import kerastuner` is deprecated, please use `import keras_tuner`.\n",
      "  from kerastuner.tuners import RandomSearch\n"
     ]
    }
   ],
   "source": [
    "import numpy as np\n",
    "import pandas as pd\n",
    "import matplotlib.pyplot as plt\n",
    "import seaborn as sns\n",
    "from scipy.stats import skew\n",
    "from sklearn.model_selection import train_test_split\n",
    "from sklearn.preprocessing import StandardScaler\n",
    "from sklearn.preprocessing import OrdinalEncoder\n",
    "from sklearn.metrics import accuracy_score, precision_score, recall_score, f1_score, matthews_corrcoef\n",
    "from sklearn.ensemble import RandomForestClassifier\n",
    "from sklearn.linear_model import LogisticRegression\n",
    "from sklearn.svm import SVC\n",
    "from sklearn.neighbors import KNeighborsClassifier\n",
    "from sklearn.tree import DecisionTreeClassifier\n",
    "from sklearn.naive_bayes import GaussianNB\n",
    "from sklearn.neural_network import MLPClassifier\n",
    "\n",
    "import tensorflow as tf\n",
    "from tensorflow import keras\n",
    "from tensorflow.keras import layers\n",
    "from tensorflow.keras import Sequential\n",
    "from tensorflow.keras.layers import Dense, Activation\n",
    "from kerastuner.tuners import RandomSearch\n",
    "from kerastuner.engine.hyperparameters import HyperParameters as hp\n",
    "from tensorflow.keras.callbacks import EarlyStopping\n",
    "from tensorflow.keras.layers import Dropout\n",
    "\n",
    "\n",
    "\n",
    "import warnings\n",
    "warnings.filterwarnings('ignore')"
   ]
  },
  {
   "cell_type": "code",
   "execution_count": 2,
   "metadata": {},
   "outputs": [
    {
     "data": {
      "text/html": [
       "<div>\n",
       "<style scoped>\n",
       "    .dataframe tbody tr th:only-of-type {\n",
       "        vertical-align: middle;\n",
       "    }\n",
       "\n",
       "    .dataframe tbody tr th {\n",
       "        vertical-align: top;\n",
       "    }\n",
       "\n",
       "    .dataframe thead th {\n",
       "        text-align: right;\n",
       "    }\n",
       "</style>\n",
       "<table border=\"1\" class=\"dataframe\">\n",
       "  <thead>\n",
       "    <tr style=\"text-align: right;\">\n",
       "      <th></th>\n",
       "      <th>A_id</th>\n",
       "      <th>Size</th>\n",
       "      <th>Weight</th>\n",
       "      <th>Sweetness</th>\n",
       "      <th>Crunchiness</th>\n",
       "      <th>Juiciness</th>\n",
       "      <th>Ripeness</th>\n",
       "      <th>Acidity</th>\n",
       "      <th>Quality</th>\n",
       "    </tr>\n",
       "  </thead>\n",
       "  <tbody>\n",
       "    <tr>\n",
       "      <th>0</th>\n",
       "      <td>0.0</td>\n",
       "      <td>-3.970049</td>\n",
       "      <td>-2.512336</td>\n",
       "      <td>5.346330</td>\n",
       "      <td>-1.012009</td>\n",
       "      <td>1.844900</td>\n",
       "      <td>0.329840</td>\n",
       "      <td>-0.491590483</td>\n",
       "      <td>good</td>\n",
       "    </tr>\n",
       "    <tr>\n",
       "      <th>1</th>\n",
       "      <td>1.0</td>\n",
       "      <td>-1.195217</td>\n",
       "      <td>-2.839257</td>\n",
       "      <td>3.664059</td>\n",
       "      <td>1.588232</td>\n",
       "      <td>0.853286</td>\n",
       "      <td>0.867530</td>\n",
       "      <td>-0.722809367</td>\n",
       "      <td>good</td>\n",
       "    </tr>\n",
       "    <tr>\n",
       "      <th>2</th>\n",
       "      <td>2.0</td>\n",
       "      <td>-0.292024</td>\n",
       "      <td>-1.351282</td>\n",
       "      <td>-1.738429</td>\n",
       "      <td>-0.342616</td>\n",
       "      <td>2.838636</td>\n",
       "      <td>-0.038033</td>\n",
       "      <td>2.621636473</td>\n",
       "      <td>bad</td>\n",
       "    </tr>\n",
       "    <tr>\n",
       "      <th>3</th>\n",
       "      <td>3.0</td>\n",
       "      <td>-0.657196</td>\n",
       "      <td>-2.271627</td>\n",
       "      <td>1.324874</td>\n",
       "      <td>-0.097875</td>\n",
       "      <td>3.637970</td>\n",
       "      <td>-3.413761</td>\n",
       "      <td>0.790723217</td>\n",
       "      <td>good</td>\n",
       "    </tr>\n",
       "    <tr>\n",
       "      <th>4</th>\n",
       "      <td>4.0</td>\n",
       "      <td>1.364217</td>\n",
       "      <td>-1.296612</td>\n",
       "      <td>-0.384658</td>\n",
       "      <td>-0.553006</td>\n",
       "      <td>3.030874</td>\n",
       "      <td>-1.303849</td>\n",
       "      <td>0.501984036</td>\n",
       "      <td>good</td>\n",
       "    </tr>\n",
       "  </tbody>\n",
       "</table>\n",
       "</div>"
      ],
      "text/plain": [
       "   A_id      Size    Weight  Sweetness  Crunchiness  Juiciness  Ripeness  \\\n",
       "0   0.0 -3.970049 -2.512336   5.346330    -1.012009   1.844900  0.329840   \n",
       "1   1.0 -1.195217 -2.839257   3.664059     1.588232   0.853286  0.867530   \n",
       "2   2.0 -0.292024 -1.351282  -1.738429    -0.342616   2.838636 -0.038033   \n",
       "3   3.0 -0.657196 -2.271627   1.324874    -0.097875   3.637970 -3.413761   \n",
       "4   4.0  1.364217 -1.296612  -0.384658    -0.553006   3.030874 -1.303849   \n",
       "\n",
       "        Acidity Quality  \n",
       "0  -0.491590483    good  \n",
       "1  -0.722809367    good  \n",
       "2   2.621636473     bad  \n",
       "3   0.790723217    good  \n",
       "4   0.501984036    good  "
      ]
     },
     "execution_count": 2,
     "metadata": {},
     "output_type": "execute_result"
    }
   ],
   "source": [
    "df = pd.read_csv('apple_quality.csv')\n",
    "df.head()"
   ]
  },
  {
   "cell_type": "code",
   "execution_count": 3,
   "metadata": {},
   "outputs": [
    {
     "name": "stdout",
     "output_type": "stream",
     "text": [
      "<class 'pandas.core.frame.DataFrame'>\n",
      "RangeIndex: 4001 entries, 0 to 4000\n",
      "Data columns (total 9 columns):\n",
      " #   Column       Non-Null Count  Dtype  \n",
      "---  ------       --------------  -----  \n",
      " 0   A_id         4000 non-null   float64\n",
      " 1   Size         4000 non-null   float64\n",
      " 2   Weight       4000 non-null   float64\n",
      " 3   Sweetness    4000 non-null   float64\n",
      " 4   Crunchiness  4000 non-null   float64\n",
      " 5   Juiciness    4000 non-null   float64\n",
      " 6   Ripeness     4000 non-null   float64\n",
      " 7   Acidity      4001 non-null   object \n",
      " 8   Quality      4000 non-null   object \n",
      "dtypes: float64(7), object(2)\n",
      "memory usage: 281.4+ KB\n"
     ]
    }
   ],
   "source": [
    "df.info()"
   ]
  },
  {
   "cell_type": "code",
   "execution_count": 4,
   "metadata": {},
   "outputs": [
    {
     "data": {
      "text/html": [
       "<div>\n",
       "<style scoped>\n",
       "    .dataframe tbody tr th:only-of-type {\n",
       "        vertical-align: middle;\n",
       "    }\n",
       "\n",
       "    .dataframe tbody tr th {\n",
       "        vertical-align: top;\n",
       "    }\n",
       "\n",
       "    .dataframe thead th {\n",
       "        text-align: right;\n",
       "    }\n",
       "</style>\n",
       "<table border=\"1\" class=\"dataframe\">\n",
       "  <thead>\n",
       "    <tr style=\"text-align: right;\">\n",
       "      <th></th>\n",
       "      <th>A_id</th>\n",
       "      <th>Size</th>\n",
       "      <th>Weight</th>\n",
       "      <th>Sweetness</th>\n",
       "      <th>Crunchiness</th>\n",
       "      <th>Juiciness</th>\n",
       "      <th>Ripeness</th>\n",
       "    </tr>\n",
       "  </thead>\n",
       "  <tbody>\n",
       "    <tr>\n",
       "      <th>count</th>\n",
       "      <td>4000.000000</td>\n",
       "      <td>4000.000000</td>\n",
       "      <td>4000.000000</td>\n",
       "      <td>4000.000000</td>\n",
       "      <td>4000.000000</td>\n",
       "      <td>4000.000000</td>\n",
       "      <td>4000.000000</td>\n",
       "    </tr>\n",
       "    <tr>\n",
       "      <th>mean</th>\n",
       "      <td>1999.500000</td>\n",
       "      <td>-0.503015</td>\n",
       "      <td>-0.989547</td>\n",
       "      <td>-0.470479</td>\n",
       "      <td>0.985478</td>\n",
       "      <td>0.512118</td>\n",
       "      <td>0.498277</td>\n",
       "    </tr>\n",
       "    <tr>\n",
       "      <th>std</th>\n",
       "      <td>1154.844867</td>\n",
       "      <td>1.928059</td>\n",
       "      <td>1.602507</td>\n",
       "      <td>1.943441</td>\n",
       "      <td>1.402757</td>\n",
       "      <td>1.930286</td>\n",
       "      <td>1.874427</td>\n",
       "    </tr>\n",
       "    <tr>\n",
       "      <th>min</th>\n",
       "      <td>0.000000</td>\n",
       "      <td>-7.151703</td>\n",
       "      <td>-7.149848</td>\n",
       "      <td>-6.894485</td>\n",
       "      <td>-6.055058</td>\n",
       "      <td>-5.961897</td>\n",
       "      <td>-5.864599</td>\n",
       "    </tr>\n",
       "    <tr>\n",
       "      <th>25%</th>\n",
       "      <td>999.750000</td>\n",
       "      <td>-1.816765</td>\n",
       "      <td>-2.011770</td>\n",
       "      <td>-1.738425</td>\n",
       "      <td>0.062764</td>\n",
       "      <td>-0.801286</td>\n",
       "      <td>-0.771677</td>\n",
       "    </tr>\n",
       "    <tr>\n",
       "      <th>50%</th>\n",
       "      <td>1999.500000</td>\n",
       "      <td>-0.513703</td>\n",
       "      <td>-0.984736</td>\n",
       "      <td>-0.504758</td>\n",
       "      <td>0.998249</td>\n",
       "      <td>0.534219</td>\n",
       "      <td>0.503445</td>\n",
       "    </tr>\n",
       "    <tr>\n",
       "      <th>75%</th>\n",
       "      <td>2999.250000</td>\n",
       "      <td>0.805526</td>\n",
       "      <td>0.030976</td>\n",
       "      <td>0.801922</td>\n",
       "      <td>1.894234</td>\n",
       "      <td>1.835976</td>\n",
       "      <td>1.766212</td>\n",
       "    </tr>\n",
       "    <tr>\n",
       "      <th>max</th>\n",
       "      <td>3999.000000</td>\n",
       "      <td>6.406367</td>\n",
       "      <td>5.790714</td>\n",
       "      <td>6.374916</td>\n",
       "      <td>7.619852</td>\n",
       "      <td>7.364403</td>\n",
       "      <td>7.237837</td>\n",
       "    </tr>\n",
       "  </tbody>\n",
       "</table>\n",
       "</div>"
      ],
      "text/plain": [
       "              A_id         Size       Weight    Sweetness  Crunchiness  \\\n",
       "count  4000.000000  4000.000000  4000.000000  4000.000000  4000.000000   \n",
       "mean   1999.500000    -0.503015    -0.989547    -0.470479     0.985478   \n",
       "std    1154.844867     1.928059     1.602507     1.943441     1.402757   \n",
       "min       0.000000    -7.151703    -7.149848    -6.894485    -6.055058   \n",
       "25%     999.750000    -1.816765    -2.011770    -1.738425     0.062764   \n",
       "50%    1999.500000    -0.513703    -0.984736    -0.504758     0.998249   \n",
       "75%    2999.250000     0.805526     0.030976     0.801922     1.894234   \n",
       "max    3999.000000     6.406367     5.790714     6.374916     7.619852   \n",
       "\n",
       "         Juiciness     Ripeness  \n",
       "count  4000.000000  4000.000000  \n",
       "mean      0.512118     0.498277  \n",
       "std       1.930286     1.874427  \n",
       "min      -5.961897    -5.864599  \n",
       "25%      -0.801286    -0.771677  \n",
       "50%       0.534219     0.503445  \n",
       "75%       1.835976     1.766212  \n",
       "max       7.364403     7.237837  "
      ]
     },
     "execution_count": 4,
     "metadata": {},
     "output_type": "execute_result"
    }
   ],
   "source": [
    "df.describe()"
   ]
  },
  {
   "cell_type": "code",
   "execution_count": 5,
   "metadata": {},
   "outputs": [
    {
     "data": {
      "text/html": [
       "<div>\n",
       "<style scoped>\n",
       "    .dataframe tbody tr th:only-of-type {\n",
       "        vertical-align: middle;\n",
       "    }\n",
       "\n",
       "    .dataframe tbody tr th {\n",
       "        vertical-align: top;\n",
       "    }\n",
       "\n",
       "    .dataframe thead th {\n",
       "        text-align: right;\n",
       "    }\n",
       "</style>\n",
       "<table border=\"1\" class=\"dataframe\">\n",
       "  <thead>\n",
       "    <tr style=\"text-align: right;\">\n",
       "      <th></th>\n",
       "      <th>Acidity</th>\n",
       "      <th>Quality</th>\n",
       "    </tr>\n",
       "  </thead>\n",
       "  <tbody>\n",
       "    <tr>\n",
       "      <th>count</th>\n",
       "      <td>4001</td>\n",
       "      <td>4000</td>\n",
       "    </tr>\n",
       "    <tr>\n",
       "      <th>unique</th>\n",
       "      <td>4001</td>\n",
       "      <td>2</td>\n",
       "    </tr>\n",
       "    <tr>\n",
       "      <th>top</th>\n",
       "      <td>-0.491590483</td>\n",
       "      <td>good</td>\n",
       "    </tr>\n",
       "    <tr>\n",
       "      <th>freq</th>\n",
       "      <td>1</td>\n",
       "      <td>2004</td>\n",
       "    </tr>\n",
       "  </tbody>\n",
       "</table>\n",
       "</div>"
      ],
      "text/plain": [
       "             Acidity Quality\n",
       "count           4001    4000\n",
       "unique          4001       2\n",
       "top     -0.491590483    good\n",
       "freq               1    2004"
      ]
     },
     "execution_count": 5,
     "metadata": {},
     "output_type": "execute_result"
    }
   ],
   "source": [
    "df.describe(include='object')"
   ]
  },
  {
   "cell_type": "code",
   "execution_count": 6,
   "metadata": {},
   "outputs": [
    {
     "data": {
      "text/plain": [
       "A_id           1\n",
       "Size           1\n",
       "Weight         1\n",
       "Sweetness      1\n",
       "Crunchiness    1\n",
       "Juiciness      1\n",
       "Ripeness       1\n",
       "Acidity        0\n",
       "Quality        1\n",
       "dtype: int64"
      ]
     },
     "execution_count": 6,
     "metadata": {},
     "output_type": "execute_result"
    }
   ],
   "source": [
    "df.isna().sum()"
   ]
  },
  {
   "cell_type": "code",
   "execution_count": 7,
   "metadata": {},
   "outputs": [
    {
     "data": {
      "image/png": "[encoded data removed]",
      "text/plain": [
       "<Figure size 640x480 with 2 Axes>"
      ]
     },
     "metadata": {},
     "output_type": "display_data"
    }
   ],
   "source": [
    "sns.heatmap(df.isna(),yticklabels=False, cmap='viridis')\n",
    "plt.show()"
   ]
  },
  {
   "cell_type": "code",
   "execution_count": 8,
   "metadata": {},
   "outputs": [
    {
     "data": {
      "text/plain": [
       "array(['-0.491590483', '-0.722809367', '2.621636473', ..., '-2.229719806',\n",
       "       '1.599796456', 'Created_by_Nidula_Elgiriyewithana'], dtype=object)"
      ]
     },
     "execution_count": 8,
     "metadata": {},
     "output_type": "execute_result"
    }
   ],
   "source": [
    "df['Acidity'].unique()"
   ]
  },
  {
   "cell_type": "code",
   "execution_count": 9,
   "metadata": {},
   "outputs": [
    {
     "data": {
      "text/html": [
       "<div>\n",
       "<style scoped>\n",
       "    .dataframe tbody tr th:only-of-type {\n",
       "        vertical-align: middle;\n",
       "    }\n",
       "\n",
       "    .dataframe tbody tr th {\n",
       "        vertical-align: top;\n",
       "    }\n",
       "\n",
       "    .dataframe thead th {\n",
       "        text-align: right;\n",
       "    }\n",
       "</style>\n",
       "<table border=\"1\" class=\"dataframe\">\n",
       "  <thead>\n",
       "    <tr style=\"text-align: right;\">\n",
       "      <th></th>\n",
       "      <th>A_id</th>\n",
       "      <th>Size</th>\n",
       "      <th>Weight</th>\n",
       "      <th>Sweetness</th>\n",
       "      <th>Crunchiness</th>\n",
       "      <th>Juiciness</th>\n",
       "      <th>Ripeness</th>\n",
       "      <th>Acidity</th>\n",
       "      <th>Quality</th>\n",
       "    </tr>\n",
       "  </thead>\n",
       "  <tbody>\n",
       "    <tr>\n",
       "      <th>4000</th>\n",
       "      <td>NaN</td>\n",
       "      <td>NaN</td>\n",
       "      <td>NaN</td>\n",
       "      <td>NaN</td>\n",
       "      <td>NaN</td>\n",
       "      <td>NaN</td>\n",
       "      <td>NaN</td>\n",
       "      <td>Created_by_Nidula_Elgiriyewithana</td>\n",
       "      <td>NaN</td>\n",
       "    </tr>\n",
       "  </tbody>\n",
       "</table>\n",
       "</div>"
      ],
      "text/plain": [
       "      A_id  Size  Weight  Sweetness  Crunchiness  Juiciness  Ripeness  \\\n",
       "4000   NaN   NaN     NaN        NaN          NaN        NaN       NaN   \n",
       "\n",
       "                                Acidity Quality  \n",
       "4000  Created_by_Nidula_Elgiriyewithana     NaN  "
      ]
     },
     "execution_count": 9,
     "metadata": {},
     "output_type": "execute_result"
    }
   ],
   "source": [
    "df[df.Acidity == 'Created_by_Nidula_Elgiriyewithana']"
   ]
  },
  {
   "cell_type": "code",
   "execution_count": 10,
   "metadata": {},
   "outputs": [
    {
     "data": {
      "text/plain": [
       "A_id           4000\n",
       "Size           4000\n",
       "Weight         4000\n",
       "Sweetness      4000\n",
       "Crunchiness    4000\n",
       "Juiciness      4000\n",
       "Ripeness       4000\n",
       "Acidity        4000\n",
       "Quality        4000\n",
       "dtype: int64"
      ]
     },
     "execution_count": 10,
     "metadata": {},
     "output_type": "execute_result"
    }
   ],
   "source": [
    "df[df.Acidity != 'Created_by_Nidula_Elgiriyewithana'].count()"
   ]
  },
  {
   "cell_type": "code",
   "execution_count": 11,
   "metadata": {},
   "outputs": [
    {
     "name": "stdout",
     "output_type": "stream",
     "text": [
      "<class 'pandas.core.frame.DataFrame'>\n",
      "Index: 4000 entries, 0 to 3999\n",
      "Data columns (total 9 columns):\n",
      " #   Column       Non-Null Count  Dtype  \n",
      "---  ------       --------------  -----  \n",
      " 0   A_id         4000 non-null   float64\n",
      " 1   Size         4000 non-null   float64\n",
      " 2   Weight       4000 non-null   float64\n",
      " 3   Sweetness    4000 non-null   float64\n",
      " 4   Crunchiness  4000 non-null   float64\n",
      " 5   Juiciness    4000 non-null   float64\n",
      " 6   Ripeness     4000 non-null   float64\n",
      " 7   Acidity      4000 non-null   object \n",
      " 8   Quality      4000 non-null   object \n",
      "dtypes: float64(7), object(2)\n",
      "memory usage: 312.5+ KB\n"
     ]
    }
   ],
   "source": [
    "df = df[df.Acidity != 'Created_by_Nidula_Elgiriyewithana']\n",
    "\n",
    "df.info()"
   ]
  },
  {
   "cell_type": "code",
   "execution_count": 12,
   "metadata": {},
   "outputs": [],
   "source": [
    "def missing_values_summary(df):\n",
    "    missing_data = df.isnull().sum()\n",
    "    total_rows = len(df)\n",
    "\n",
    "    missing_data_percentage = (missing_data/total_rows)*100\n",
    "\n",
    "    missing_data_summary = pd.DataFrame({\n",
    "        'Feature': missing_data.index,\n",
    "        'Missing Values' : missing_data.values,\n",
    "        'Percentage' : missing_data_percentage.values\n",
    "    })\n",
    "\n",
    "    missing_data_summary = missing_data_summary.sort_values(by='Percentage', ascending=False)\n",
    "\n",
    "    return missing_data_summary"
   ]
  },
  {
   "cell_type": "code",
   "execution_count": 13,
   "metadata": {},
   "outputs": [
    {
     "data": {
      "text/html": [
       "<div>\n",
       "<style scoped>\n",
       "    .dataframe tbody tr th:only-of-type {\n",
       "        vertical-align: middle;\n",
       "    }\n",
       "\n",
       "    .dataframe tbody tr th {\n",
       "        vertical-align: top;\n",
       "    }\n",
       "\n",
       "    .dataframe thead th {\n",
       "        text-align: right;\n",
       "    }\n",
       "</style>\n",
       "<table border=\"1\" class=\"dataframe\">\n",
       "  <thead>\n",
       "    <tr style=\"text-align: right;\">\n",
       "      <th></th>\n",
       "      <th>Feature</th>\n",
       "      <th>Missing Values</th>\n",
       "      <th>Percentage</th>\n",
       "    </tr>\n",
       "  </thead>\n",
       "  <tbody>\n",
       "    <tr>\n",
       "      <th>0</th>\n",
       "      <td>A_id</td>\n",
       "      <td>0</td>\n",
       "      <td>0.0</td>\n",
       "    </tr>\n",
       "    <tr>\n",
       "      <th>1</th>\n",
       "      <td>Size</td>\n",
       "      <td>0</td>\n",
       "      <td>0.0</td>\n",
       "    </tr>\n",
       "    <tr>\n",
       "      <th>2</th>\n",
       "      <td>Weight</td>\n",
       "      <td>0</td>\n",
       "      <td>0.0</td>\n",
       "    </tr>\n",
       "    <tr>\n",
       "      <th>3</th>\n",
       "      <td>Sweetness</td>\n",
       "      <td>0</td>\n",
       "      <td>0.0</td>\n",
       "    </tr>\n",
       "    <tr>\n",
       "      <th>4</th>\n",
       "      <td>Crunchiness</td>\n",
       "      <td>0</td>\n",
       "      <td>0.0</td>\n",
       "    </tr>\n",
       "    <tr>\n",
       "      <th>5</th>\n",
       "      <td>Juiciness</td>\n",
       "      <td>0</td>\n",
       "      <td>0.0</td>\n",
       "    </tr>\n",
       "    <tr>\n",
       "      <th>6</th>\n",
       "      <td>Ripeness</td>\n",
       "      <td>0</td>\n",
       "      <td>0.0</td>\n",
       "    </tr>\n",
       "    <tr>\n",
       "      <th>7</th>\n",
       "      <td>Acidity</td>\n",
       "      <td>0</td>\n",
       "      <td>0.0</td>\n",
       "    </tr>\n",
       "    <tr>\n",
       "      <th>8</th>\n",
       "      <td>Quality</td>\n",
       "      <td>0</td>\n",
       "      <td>0.0</td>\n",
       "    </tr>\n",
       "  </tbody>\n",
       "</table>\n",
       "</div>"
      ],
      "text/plain": [
       "       Feature  Missing Values  Percentage\n",
       "0         A_id               0         0.0\n",
       "1         Size               0         0.0\n",
       "2       Weight               0         0.0\n",
       "3    Sweetness               0         0.0\n",
       "4  Crunchiness               0         0.0\n",
       "5    Juiciness               0         0.0\n",
       "6     Ripeness               0         0.0\n",
       "7      Acidity               0         0.0\n",
       "8      Quality               0         0.0"
      ]
     },
     "execution_count": 13,
     "metadata": {},
     "output_type": "execute_result"
    }
   ],
   "source": [
    "missing_values_summary(df)"
   ]
  },
  {
   "cell_type": "code",
   "execution_count": 14,
   "metadata": {},
   "outputs": [],
   "source": [
    "df['Acidity'] = df['Acidity'].astype('float64')\n",
    "df = df.drop(['A_id'],axis=1)"
   ]
  },
  {
   "cell_type": "code",
   "execution_count": 15,
   "metadata": {},
   "outputs": [
    {
     "name": "stdout",
     "output_type": "stream",
     "text": [
      "<class 'pandas.core.frame.DataFrame'>\n",
      "Index: 4000 entries, 0 to 3999\n",
      "Data columns (total 8 columns):\n",
      " #   Column       Non-Null Count  Dtype  \n",
      "---  ------       --------------  -----  \n",
      " 0   Size         4000 non-null   float64\n",
      " 1   Weight       4000 non-null   float64\n",
      " 2   Sweetness    4000 non-null   float64\n",
      " 3   Crunchiness  4000 non-null   float64\n",
      " 4   Juiciness    4000 non-null   float64\n",
      " 5   Ripeness     4000 non-null   float64\n",
      " 6   Acidity      4000 non-null   float64\n",
      " 7   Quality      4000 non-null   object \n",
      "dtypes: float64(7), object(1)\n",
      "memory usage: 281.2+ KB\n"
     ]
    }
   ],
   "source": [
    "df.info()"
   ]
  },
  {
   "cell_type": "code",
   "execution_count": 16,
   "metadata": {},
   "outputs": [
    {
     "name": "stdout",
     "output_type": "stream",
     "text": [
      "Size\n",
      "Skewness: -0.0024360294426308085\n"
     ]
    },
    {
     "data": {
      "image/png": "[encoded data removed]",
      "text/plain": [
       "<Figure size 640x480 with 1 Axes>"
      ]
     },
     "metadata": {},
     "output_type": "display_data"
    },
    {
     "name": "stdout",
     "output_type": "stream",
     "text": [
      "Weight\n",
      "Skewness: 0.0031004069327457127\n"
     ]
    },
    {
     "data": {
      "image/png": "[encoded data removed]",
      "text/plain": [
       "<Figure size 640x480 with 1 Axes>"
      ]
     },
     "metadata": {},
     "output_type": "display_data"
    },
    {
     "name": "stdout",
     "output_type": "stream",
     "text": [
      "Sweetness\n",
      "Skewness: 0.08381834394973907\n"
     ]
    },
    {
     "data": {
      "image/png": "[encoded data removed]",
      "text/plain": [
       "<Figure size 640x480 with 1 Axes>"
      ]
     },
     "metadata": {},
     "output_type": "display_data"
    },
    {
     "name": "stdout",
     "output_type": "stream",
     "text": [
      "Crunchiness\n",
      "Skewness: 0.00023001961531377834\n"
     ]
    },
    {
     "data": {
      "image/png": "[encoded data removed]",
      "text/plain": [
       "<Figure size 640x480 with 1 Axes>"
      ]
     },
     "metadata": {},
     "output_type": "display_data"
    },
    {
     "name": "stdout",
     "output_type": "stream",
     "text": [
      "Juiciness\n",
      "Skewness: -0.11337829624193697\n"
     ]
    },
    {
     "data": {
      "image/png": "[encoded data removed]",
      "text/plain": [
       "<Figure size 640x480 with 1 Axes>"
      ]
     },
     "metadata": {},
     "output_type": "display_data"
    },
    {
     "name": "stdout",
     "output_type": "stream",
     "text": [
      "Ripeness\n",
      "Skewness: -0.008760810490611875\n"
     ]
    },
    {
     "data": {
      "image/png": "[encoded data removed]",
      "text/plain": [
       "<Figure size 640x480 with 1 Axes>"
      ]
     },
     "metadata": {},
     "output_type": "display_data"
    },
    {
     "name": "stdout",
     "output_type": "stream",
     "text": [
      "Acidity\n",
      "Skewness: 0.055762532378246056\n"
     ]
    },
    {
     "data": {
      "image/png": "[encoded data removed]",
      "text/plain": [
       "<Figure size 640x480 with 1 Axes>"
      ]
     },
     "metadata": {},
     "output_type": "display_data"
    }
   ],
   "source": [
    "one = df.select_dtypes(['float64'])\n",
    "\n",
    "for col in one:\n",
    "    print(col)\n",
    "    print(f'Skewness: {skew(one[col])}')\n",
    "\n",
    "    plt.figure()\n",
    "    sns.distplot(one[col])\n",
    "    plt.grid(True)\n",
    "    plt.show()"
   ]
  },
  {
   "cell_type": "code",
   "execution_count": 17,
   "metadata": {},
   "outputs": [
    {
     "data": {
      "text/html": [
       "<div>\n",
       "<style scoped>\n",
       "    .dataframe tbody tr th:only-of-type {\n",
       "        vertical-align: middle;\n",
       "    }\n",
       "\n",
       "    .dataframe tbody tr th {\n",
       "        vertical-align: top;\n",
       "    }\n",
       "\n",
       "    .dataframe thead th {\n",
       "        text-align: right;\n",
       "    }\n",
       "</style>\n",
       "<table border=\"1\" class=\"dataframe\">\n",
       "  <thead>\n",
       "    <tr style=\"text-align: right;\">\n",
       "      <th></th>\n",
       "      <th>Size</th>\n",
       "      <th>Weight</th>\n",
       "      <th>Sweetness</th>\n",
       "      <th>Crunchiness</th>\n",
       "      <th>Juiciness</th>\n",
       "      <th>Ripeness</th>\n",
       "      <th>Acidity</th>\n",
       "    </tr>\n",
       "  </thead>\n",
       "  <tbody>\n",
       "    <tr>\n",
       "      <th>Size</th>\n",
       "      <td>1.000000</td>\n",
       "      <td>-0.170702</td>\n",
       "      <td>-0.324680</td>\n",
       "      <td>0.169868</td>\n",
       "      <td>-0.018892</td>\n",
       "      <td>-0.134773</td>\n",
       "      <td>0.196218</td>\n",
       "    </tr>\n",
       "    <tr>\n",
       "      <th>Weight</th>\n",
       "      <td>-0.170702</td>\n",
       "      <td>1.000000</td>\n",
       "      <td>-0.154246</td>\n",
       "      <td>-0.095882</td>\n",
       "      <td>-0.092263</td>\n",
       "      <td>-0.243824</td>\n",
       "      <td>0.016414</td>\n",
       "    </tr>\n",
       "    <tr>\n",
       "      <th>Sweetness</th>\n",
       "      <td>-0.324680</td>\n",
       "      <td>-0.154246</td>\n",
       "      <td>1.000000</td>\n",
       "      <td>-0.037552</td>\n",
       "      <td>0.095882</td>\n",
       "      <td>-0.273800</td>\n",
       "      <td>0.085999</td>\n",
       "    </tr>\n",
       "    <tr>\n",
       "      <th>Crunchiness</th>\n",
       "      <td>0.169868</td>\n",
       "      <td>-0.095882</td>\n",
       "      <td>-0.037552</td>\n",
       "      <td>1.000000</td>\n",
       "      <td>-0.259607</td>\n",
       "      <td>-0.201982</td>\n",
       "      <td>0.069943</td>\n",
       "    </tr>\n",
       "    <tr>\n",
       "      <th>Juiciness</th>\n",
       "      <td>-0.018892</td>\n",
       "      <td>-0.092263</td>\n",
       "      <td>0.095882</td>\n",
       "      <td>-0.259607</td>\n",
       "      <td>1.000000</td>\n",
       "      <td>-0.097144</td>\n",
       "      <td>0.248714</td>\n",
       "    </tr>\n",
       "    <tr>\n",
       "      <th>Ripeness</th>\n",
       "      <td>-0.134773</td>\n",
       "      <td>-0.243824</td>\n",
       "      <td>-0.273800</td>\n",
       "      <td>-0.201982</td>\n",
       "      <td>-0.097144</td>\n",
       "      <td>1.000000</td>\n",
       "      <td>-0.202669</td>\n",
       "    </tr>\n",
       "    <tr>\n",
       "      <th>Acidity</th>\n",
       "      <td>0.196218</td>\n",
       "      <td>0.016414</td>\n",
       "      <td>0.085999</td>\n",
       "      <td>0.069943</td>\n",
       "      <td>0.248714</td>\n",
       "      <td>-0.202669</td>\n",
       "      <td>1.000000</td>\n",
       "    </tr>\n",
       "  </tbody>\n",
       "</table>\n",
       "</div>"
      ],
      "text/plain": [
       "                 Size    Weight  Sweetness  Crunchiness  Juiciness  Ripeness  \\\n",
       "Size         1.000000 -0.170702  -0.324680     0.169868  -0.018892 -0.134773   \n",
       "Weight      -0.170702  1.000000  -0.154246    -0.095882  -0.092263 -0.243824   \n",
       "Sweetness   -0.324680 -0.154246   1.000000    -0.037552   0.095882 -0.273800   \n",
       "Crunchiness  0.169868 -0.095882  -0.037552     1.000000  -0.259607 -0.201982   \n",
       "Juiciness   -0.018892 -0.092263   0.095882    -0.259607   1.000000 -0.097144   \n",
       "Ripeness    -0.134773 -0.243824  -0.273800    -0.201982  -0.097144  1.000000   \n",
       "Acidity      0.196218  0.016414   0.085999     0.069943   0.248714 -0.202669   \n",
       "\n",
       "              Acidity  \n",
       "Size         0.196218  \n",
       "Weight       0.016414  \n",
       "Sweetness    0.085999  \n",
       "Crunchiness  0.069943  \n",
       "Juiciness    0.248714  \n",
       "Ripeness    -0.202669  \n",
       "Acidity      1.000000  "
      ]
     },
     "execution_count": 17,
     "metadata": {},
     "output_type": "execute_result"
    }
   ],
   "source": [
    "one.corr()"
   ]
  },
  {
   "cell_type": "code",
   "execution_count": 18,
   "metadata": {},
   "outputs": [
    {
     "data": {
      "image/png": "[encoded data removed]",
      "text/plain": [
       "<Figure size 1500x500 with 2 Axes>"
      ]
     },
     "metadata": {},
     "output_type": "display_data"
    }
   ],
   "source": [
    "plt.figure(figsize = (15,5))\n",
    "sns.heatmap(one.corr(), annot= True, cmap = 'viridis')\n",
    "plt.show()"
   ]
  },
  {
   "cell_type": "code",
   "execution_count": 19,
   "metadata": {},
   "outputs": [
    {
     "data": {
      "text/plain": [
       "Index(['Size', 'Weight', 'Sweetness', 'Crunchiness', 'Juiciness', 'Ripeness',\n",
       "       'Acidity', 'Quality'],\n",
       "      dtype='object')"
      ]
     },
     "execution_count": 19,
     "metadata": {},
     "output_type": "execute_result"
    }
   ],
   "source": [
    "df.columns"
   ]
  },
  {
   "cell_type": "code",
   "execution_count": 20,
   "metadata": {},
   "outputs": [],
   "source": [
    "x = df.iloc[: , :-1]\n",
    "y = df.iloc[ : ,-1]"
   ]
  },
  {
   "cell_type": "code",
   "execution_count": 21,
   "metadata": {},
   "outputs": [],
   "source": [
    "xtrain, xtest, ytrain, ytest = train_test_split(x, y, test_size = 0.3, random_state = 42)\n"
   ]
  },
  {
   "cell_type": "code",
   "execution_count": 22,
   "metadata": {},
   "outputs": [
    {
     "name": "stdout",
     "output_type": "stream",
     "text": [
      "Xtrain: (2800, 7)\n",
      "Ytrain: (2800,)\n",
      "Xtest: (1200, 7)\n",
      "Ytest: (1200,)\n"
     ]
    }
   ],
   "source": [
    "print(f'Xtrain: {xtrain.shape}')\n",
    "print(f'Ytrain: {ytrain.shape}')\n",
    "print(f'Xtest: {xtest.shape}')\n",
    "print(f'Ytest: {ytest.shape}')"
   ]
  },
  {
   "cell_type": "code",
   "execution_count": 23,
   "metadata": {},
   "outputs": [
    {
     "data": {
      "text/plain": [
       "3215    good\n",
       "3126     bad\n",
       "697     good\n",
       "3613    good\n",
       "2374    good\n",
       "Name: Quality, dtype: object"
      ]
     },
     "execution_count": 23,
     "metadata": {},
     "output_type": "execute_result"
    }
   ],
   "source": [
    "ytrain.head()"
   ]
  },
  {
   "cell_type": "code",
   "execution_count": 24,
   "metadata": {},
   "outputs": [
    {
     "data": {
      "text/plain": [
       "(2800,)"
      ]
     },
     "execution_count": 24,
     "metadata": {},
     "output_type": "execute_result"
    }
   ],
   "source": [
    "ytrain.shape"
   ]
  },
  {
   "cell_type": "code",
   "execution_count": 25,
   "metadata": {},
   "outputs": [],
   "source": [
    "ytrain_reshaped = np.array(ytrain).reshape(-1,1)\n",
    "\n",
    "oe = OrdinalEncoder()\n",
    "ytrain_encoded = oe.fit_transform(ytrain_reshaped)"
   ]
  },
  {
   "cell_type": "code",
   "execution_count": 26,
   "metadata": {},
   "outputs": [],
   "source": [
    "ytrain = ytrain_encoded.flatten()"
   ]
  },
  {
   "cell_type": "code",
   "execution_count": 27,
   "metadata": {},
   "outputs": [],
   "source": [
    "ytest_reshaped = np.array(ytest).reshape(-1,1)\n",
    "\n",
    "oe = OrdinalEncoder()\n",
    "ytest_encoded = oe.fit_transform(ytest_reshaped)\n",
    "ytest = ytest_encoded.flatten()"
   ]
  },
  {
   "cell_type": "code",
   "execution_count": 28,
   "metadata": {},
   "outputs": [
    {
     "name": "stdout",
     "output_type": "stream",
     "text": [
      "(2800, 7)\n",
      "(1200, 7)\n"
     ]
    }
   ],
   "source": [
    "print(xtrain.shape)\n",
    "print(xtest.shape)"
   ]
  },
  {
   "cell_type": "code",
   "execution_count": 29,
   "metadata": {},
   "outputs": [
    {
     "data": {
      "text/plain": [
       "Index(['Size', 'Weight', 'Sweetness', 'Crunchiness', 'Juiciness', 'Ripeness',\n",
       "       'Acidity'],\n",
       "      dtype='object')"
      ]
     },
     "execution_count": 29,
     "metadata": {},
     "output_type": "execute_result"
    }
   ],
   "source": [
    "xtrain.columns\n",
    "\n"
   ]
  },
  {
   "cell_type": "code",
   "execution_count": 30,
   "metadata": {},
   "outputs": [],
   "source": [
    "columns_to_scale = ['Size', 'Weight', 'Sweetness', 'Crunchiness', 'Juiciness', 'Ripeness', 'Acidity']\n",
    "standard_scaler = StandardScaler()\n",
    "\n",
    "xtrain_scaled_array = standard_scaler.fit_transform(xtrain[columns_to_scale])\n",
    "xtrain = pd.DataFrame(xtrain_scaled_array, columns=columns_to_scale, index=xtrain.index)\n",
    "\n",
    "xtest_scaled_array = standard_scaler.transform(xtest[columns_to_scale])\n",
    "xtest = pd.DataFrame(xtest_scaled_array, columns=columns_to_scale, index=xtest.index)"
   ]
  },
  {
   "cell_type": "code",
   "execution_count": 31,
   "metadata": {},
   "outputs": [
    {
     "data": {
      "text/html": [
       "<div>\n",
       "<style scoped>\n",
       "    .dataframe tbody tr th:only-of-type {\n",
       "        vertical-align: middle;\n",
       "    }\n",
       "\n",
       "    .dataframe tbody tr th {\n",
       "        vertical-align: top;\n",
       "    }\n",
       "\n",
       "    .dataframe thead th {\n",
       "        text-align: right;\n",
       "    }\n",
       "</style>\n",
       "<table border=\"1\" class=\"dataframe\">\n",
       "  <thead>\n",
       "    <tr style=\"text-align: right;\">\n",
       "      <th></th>\n",
       "      <th>Size</th>\n",
       "      <th>Weight</th>\n",
       "      <th>Sweetness</th>\n",
       "      <th>Crunchiness</th>\n",
       "      <th>Juiciness</th>\n",
       "      <th>Ripeness</th>\n",
       "      <th>Acidity</th>\n",
       "    </tr>\n",
       "  </thead>\n",
       "  <tbody>\n",
       "    <tr>\n",
       "      <th>3215</th>\n",
       "      <td>1.078633</td>\n",
       "      <td>-1.268430</td>\n",
       "      <td>-0.341128</td>\n",
       "      <td>-0.841490</td>\n",
       "      <td>1.319372</td>\n",
       "      <td>-0.459025</td>\n",
       "      <td>0.764257</td>\n",
       "    </tr>\n",
       "    <tr>\n",
       "      <th>3126</th>\n",
       "      <td>1.653148</td>\n",
       "      <td>1.171527</td>\n",
       "      <td>-0.288417</td>\n",
       "      <td>0.906704</td>\n",
       "      <td>-0.425436</td>\n",
       "      <td>-1.631345</td>\n",
       "      <td>0.253126</td>\n",
       "    </tr>\n",
       "    <tr>\n",
       "      <th>697</th>\n",
       "      <td>-0.313366</td>\n",
       "      <td>0.583272</td>\n",
       "      <td>0.674861</td>\n",
       "      <td>-0.758873</td>\n",
       "      <td>1.061875</td>\n",
       "      <td>-0.570322</td>\n",
       "      <td>-1.847651</td>\n",
       "    </tr>\n",
       "    <tr>\n",
       "      <th>3613</th>\n",
       "      <td>-0.461331</td>\n",
       "      <td>1.149011</td>\n",
       "      <td>-0.883749</td>\n",
       "      <td>0.053613</td>\n",
       "      <td>-0.358952</td>\n",
       "      <td>0.518206</td>\n",
       "      <td>-0.463853</td>\n",
       "    </tr>\n",
       "    <tr>\n",
       "      <th>2374</th>\n",
       "      <td>0.520137</td>\n",
       "      <td>-0.541318</td>\n",
       "      <td>0.958719</td>\n",
       "      <td>-1.066084</td>\n",
       "      <td>-0.793963</td>\n",
       "      <td>-0.802577</td>\n",
       "      <td>0.646980</td>\n",
       "    </tr>\n",
       "  </tbody>\n",
       "</table>\n",
       "</div>"
      ],
      "text/plain": [
       "          Size    Weight  Sweetness  Crunchiness  Juiciness  Ripeness  \\\n",
       "3215  1.078633 -1.268430  -0.341128    -0.841490   1.319372 -0.459025   \n",
       "3126  1.653148  1.171527  -0.288417     0.906704  -0.425436 -1.631345   \n",
       "697  -0.313366  0.583272   0.674861    -0.758873   1.061875 -0.570322   \n",
       "3613 -0.461331  1.149011  -0.883749     0.053613  -0.358952  0.518206   \n",
       "2374  0.520137 -0.541318   0.958719    -1.066084  -0.793963 -0.802577   \n",
       "\n",
       "       Acidity  \n",
       "3215  0.764257  \n",
       "3126  0.253126  \n",
       "697  -1.847651  \n",
       "3613 -0.463853  \n",
       "2374  0.646980  "
      ]
     },
     "execution_count": 31,
     "metadata": {},
     "output_type": "execute_result"
    }
   ],
   "source": [
    "xtrain.head()"
   ]
  },
  {
   "cell_type": "code",
   "execution_count": 32,
   "metadata": {},
   "outputs": [
    {
     "data": {
      "text/html": [
       "<div>\n",
       "<style scoped>\n",
       "    .dataframe tbody tr th:only-of-type {\n",
       "        vertical-align: middle;\n",
       "    }\n",
       "\n",
       "    .dataframe tbody tr th {\n",
       "        vertical-align: top;\n",
       "    }\n",
       "\n",
       "    .dataframe thead th {\n",
       "        text-align: right;\n",
       "    }\n",
       "</style>\n",
       "<table border=\"1\" class=\"dataframe\">\n",
       "  <thead>\n",
       "    <tr style=\"text-align: right;\">\n",
       "      <th></th>\n",
       "      <th>Size</th>\n",
       "      <th>Weight</th>\n",
       "      <th>Sweetness</th>\n",
       "      <th>Crunchiness</th>\n",
       "      <th>Juiciness</th>\n",
       "      <th>Ripeness</th>\n",
       "      <th>Acidity</th>\n",
       "    </tr>\n",
       "  </thead>\n",
       "  <tbody>\n",
       "    <tr>\n",
       "      <th>555</th>\n",
       "      <td>1.869743</td>\n",
       "      <td>-0.447096</td>\n",
       "      <td>-1.648822</td>\n",
       "      <td>-0.010996</td>\n",
       "      <td>0.006006</td>\n",
       "      <td>0.627433</td>\n",
       "      <td>-0.305611</td>\n",
       "    </tr>\n",
       "    <tr>\n",
       "      <th>3491</th>\n",
       "      <td>1.007982</td>\n",
       "      <td>0.470353</td>\n",
       "      <td>0.204465</td>\n",
       "      <td>0.310870</td>\n",
       "      <td>0.184535</td>\n",
       "      <td>-1.426487</td>\n",
       "      <td>0.882310</td>\n",
       "    </tr>\n",
       "    <tr>\n",
       "      <th>527</th>\n",
       "      <td>0.886996</td>\n",
       "      <td>0.292185</td>\n",
       "      <td>1.125319</td>\n",
       "      <td>0.230820</td>\n",
       "      <td>-0.556106</td>\n",
       "      <td>-0.968045</td>\n",
       "      <td>0.433489</td>\n",
       "    </tr>\n",
       "    <tr>\n",
       "      <th>3925</th>\n",
       "      <td>-0.576701</td>\n",
       "      <td>-0.361532</td>\n",
       "      <td>1.388648</td>\n",
       "      <td>-0.812737</td>\n",
       "      <td>-1.008010</td>\n",
       "      <td>1.015967</td>\n",
       "      <td>-0.278279</td>\n",
       "    </tr>\n",
       "    <tr>\n",
       "      <th>2989</th>\n",
       "      <td>-0.758866</td>\n",
       "      <td>0.293447</td>\n",
       "      <td>-0.987787</td>\n",
       "      <td>-0.603996</td>\n",
       "      <td>-1.698553</td>\n",
       "      <td>0.608051</td>\n",
       "      <td>-0.824862</td>\n",
       "    </tr>\n",
       "  </tbody>\n",
       "</table>\n",
       "</div>"
      ],
      "text/plain": [
       "          Size    Weight  Sweetness  Crunchiness  Juiciness  Ripeness  \\\n",
       "555   1.869743 -0.447096  -1.648822    -0.010996   0.006006  0.627433   \n",
       "3491  1.007982  0.470353   0.204465     0.310870   0.184535 -1.426487   \n",
       "527   0.886996  0.292185   1.125319     0.230820  -0.556106 -0.968045   \n",
       "3925 -0.576701 -0.361532   1.388648    -0.812737  -1.008010  1.015967   \n",
       "2989 -0.758866  0.293447  -0.987787    -0.603996  -1.698553  0.608051   \n",
       "\n",
       "       Acidity  \n",
       "555  -0.305611  \n",
       "3491  0.882310  \n",
       "527   0.433489  \n",
       "3925 -0.278279  \n",
       "2989 -0.824862  "
      ]
     },
     "execution_count": 32,
     "metadata": {},
     "output_type": "execute_result"
    }
   ],
   "source": [
    "xtest.head()"
   ]
  },
  {
   "cell_type": "code",
   "execution_count": 33,
   "metadata": {},
   "outputs": [],
   "source": [
    "xval, xtest, yval, ytest = train_test_split(xtest, ytest, test_size = 0.5, random_state= 42)"
   ]
  },
  {
   "cell_type": "code",
   "execution_count": 34,
   "metadata": {},
   "outputs": [
    {
     "name": "stdout",
     "output_type": "stream",
     "text": [
      "Xtrain: (2800, 7)\n",
      "Ytrain: (2800,)\n",
      "Xtest: (600, 7)\n",
      "Ytest: (600,)\n",
      "Xval: (600, 7)\n",
      "Yval: (600,)\n"
     ]
    }
   ],
   "source": [
    "print(f'Xtrain: {xtrain.shape}')\n",
    "print(f'Ytrain: {ytrain.shape}')\n",
    "print(f'Xtest: {xtest.shape}')\n",
    "print(f'Ytest: {ytest.shape}')\n",
    "print(f'Xval: {xval.shape}')\n",
    "print(f'Yval: {yval.shape}')"
   ]
  },
  {
   "cell_type": "code",
   "execution_count": 35,
   "metadata": {},
   "outputs": [
    {
     "data": {
      "text/html": [
       "<div>\n",
       "<style scoped>\n",
       "    .dataframe tbody tr th:only-of-type {\n",
       "        vertical-align: middle;\n",
       "    }\n",
       "\n",
       "    .dataframe tbody tr th {\n",
       "        vertical-align: top;\n",
       "    }\n",
       "\n",
       "    .dataframe thead th {\n",
       "        text-align: right;\n",
       "    }\n",
       "</style>\n",
       "<table border=\"1\" class=\"dataframe\">\n",
       "  <thead>\n",
       "    <tr style=\"text-align: right;\">\n",
       "      <th></th>\n",
       "      <th>Size</th>\n",
       "      <th>Weight</th>\n",
       "      <th>Sweetness</th>\n",
       "      <th>Crunchiness</th>\n",
       "      <th>Juiciness</th>\n",
       "      <th>Ripeness</th>\n",
       "      <th>Acidity</th>\n",
       "    </tr>\n",
       "  </thead>\n",
       "  <tbody>\n",
       "    <tr>\n",
       "      <th>3215</th>\n",
       "      <td>1.078633</td>\n",
       "      <td>-1.268430</td>\n",
       "      <td>-0.341128</td>\n",
       "      <td>-0.841490</td>\n",
       "      <td>1.319372</td>\n",
       "      <td>-0.459025</td>\n",
       "      <td>0.764257</td>\n",
       "    </tr>\n",
       "    <tr>\n",
       "      <th>3126</th>\n",
       "      <td>1.653148</td>\n",
       "      <td>1.171527</td>\n",
       "      <td>-0.288417</td>\n",
       "      <td>0.906704</td>\n",
       "      <td>-0.425436</td>\n",
       "      <td>-1.631345</td>\n",
       "      <td>0.253126</td>\n",
       "    </tr>\n",
       "    <tr>\n",
       "      <th>697</th>\n",
       "      <td>-0.313366</td>\n",
       "      <td>0.583272</td>\n",
       "      <td>0.674861</td>\n",
       "      <td>-0.758873</td>\n",
       "      <td>1.061875</td>\n",
       "      <td>-0.570322</td>\n",
       "      <td>-1.847651</td>\n",
       "    </tr>\n",
       "    <tr>\n",
       "      <th>3613</th>\n",
       "      <td>-0.461331</td>\n",
       "      <td>1.149011</td>\n",
       "      <td>-0.883749</td>\n",
       "      <td>0.053613</td>\n",
       "      <td>-0.358952</td>\n",
       "      <td>0.518206</td>\n",
       "      <td>-0.463853</td>\n",
       "    </tr>\n",
       "    <tr>\n",
       "      <th>2374</th>\n",
       "      <td>0.520137</td>\n",
       "      <td>-0.541318</td>\n",
       "      <td>0.958719</td>\n",
       "      <td>-1.066084</td>\n",
       "      <td>-0.793963</td>\n",
       "      <td>-0.802577</td>\n",
       "      <td>0.646980</td>\n",
       "    </tr>\n",
       "  </tbody>\n",
       "</table>\n",
       "</div>"
      ],
      "text/plain": [
       "          Size    Weight  Sweetness  Crunchiness  Juiciness  Ripeness  \\\n",
       "3215  1.078633 -1.268430  -0.341128    -0.841490   1.319372 -0.459025   \n",
       "3126  1.653148  1.171527  -0.288417     0.906704  -0.425436 -1.631345   \n",
       "697  -0.313366  0.583272   0.674861    -0.758873   1.061875 -0.570322   \n",
       "3613 -0.461331  1.149011  -0.883749     0.053613  -0.358952  0.518206   \n",
       "2374  0.520137 -0.541318   0.958719    -1.066084  -0.793963 -0.802577   \n",
       "\n",
       "       Acidity  \n",
       "3215  0.764257  \n",
       "3126  0.253126  \n",
       "697  -1.847651  \n",
       "3613 -0.463853  \n",
       "2374  0.646980  "
      ]
     },
     "execution_count": 35,
     "metadata": {},
     "output_type": "execute_result"
    }
   ],
   "source": [
    "xtrain.head()"
   ]
  },
  {
   "cell_type": "code",
   "execution_count": 36,
   "metadata": {},
   "outputs": [
    {
     "data": {
      "text/html": [
       "<div>\n",
       "<style scoped>\n",
       "    .dataframe tbody tr th:only-of-type {\n",
       "        vertical-align: middle;\n",
       "    }\n",
       "\n",
       "    .dataframe tbody tr th {\n",
       "        vertical-align: top;\n",
       "    }\n",
       "\n",
       "    .dataframe thead th {\n",
       "        text-align: right;\n",
       "    }\n",
       "</style>\n",
       "<table border=\"1\" class=\"dataframe\">\n",
       "  <thead>\n",
       "    <tr style=\"text-align: right;\">\n",
       "      <th></th>\n",
       "      <th>Size</th>\n",
       "      <th>Weight</th>\n",
       "      <th>Sweetness</th>\n",
       "      <th>Crunchiness</th>\n",
       "      <th>Juiciness</th>\n",
       "      <th>Ripeness</th>\n",
       "      <th>Acidity</th>\n",
       "    </tr>\n",
       "  </thead>\n",
       "  <tbody>\n",
       "    <tr>\n",
       "      <th>3453</th>\n",
       "      <td>1.528657</td>\n",
       "      <td>-0.282537</td>\n",
       "      <td>0.237962</td>\n",
       "      <td>0.038691</td>\n",
       "      <td>-0.810269</td>\n",
       "      <td>1.290415</td>\n",
       "      <td>-0.953247</td>\n",
       "    </tr>\n",
       "    <tr>\n",
       "      <th>511</th>\n",
       "      <td>1.731917</td>\n",
       "      <td>-0.045427</td>\n",
       "      <td>-0.649516</td>\n",
       "      <td>0.512682</td>\n",
       "      <td>-0.294992</td>\n",
       "      <td>0.110345</td>\n",
       "      <td>1.636228</td>\n",
       "    </tr>\n",
       "    <tr>\n",
       "      <th>14</th>\n",
       "      <td>1.734826</td>\n",
       "      <td>0.394822</td>\n",
       "      <td>-0.286451</td>\n",
       "      <td>-0.060466</td>\n",
       "      <td>-0.938250</td>\n",
       "      <td>0.052770</td>\n",
       "      <td>0.766698</td>\n",
       "    </tr>\n",
       "    <tr>\n",
       "      <th>3930</th>\n",
       "      <td>-1.509775</td>\n",
       "      <td>0.973009</td>\n",
       "      <td>1.553866</td>\n",
       "      <td>-1.728065</td>\n",
       "      <td>-0.502269</td>\n",
       "      <td>0.197669</td>\n",
       "      <td>-1.534713</td>\n",
       "    </tr>\n",
       "    <tr>\n",
       "      <th>1344</th>\n",
       "      <td>-0.413772</td>\n",
       "      <td>-0.471838</td>\n",
       "      <td>0.137963</td>\n",
       "      <td>0.256857</td>\n",
       "      <td>-1.438879</td>\n",
       "      <td>-1.190523</td>\n",
       "      <td>-1.625622</td>\n",
       "    </tr>\n",
       "  </tbody>\n",
       "</table>\n",
       "</div>"
      ],
      "text/plain": [
       "          Size    Weight  Sweetness  Crunchiness  Juiciness  Ripeness  \\\n",
       "3453  1.528657 -0.282537   0.237962     0.038691  -0.810269  1.290415   \n",
       "511   1.731917 -0.045427  -0.649516     0.512682  -0.294992  0.110345   \n",
       "14    1.734826  0.394822  -0.286451    -0.060466  -0.938250  0.052770   \n",
       "3930 -1.509775  0.973009   1.553866    -1.728065  -0.502269  0.197669   \n",
       "1344 -0.413772 -0.471838   0.137963     0.256857  -1.438879 -1.190523   \n",
       "\n",
       "       Acidity  \n",
       "3453 -0.953247  \n",
       "511   1.636228  \n",
       "14    0.766698  \n",
       "3930 -1.534713  \n",
       "1344 -1.625622  "
      ]
     },
     "execution_count": 36,
     "metadata": {},
     "output_type": "execute_result"
    }
   ],
   "source": [
    "xval.head()"
   ]
  },
  {
   "cell_type": "code",
   "execution_count": 37,
   "metadata": {},
   "outputs": [
    {
     "data": {
      "text/html": [
       "<div>\n",
       "<style scoped>\n",
       "    .dataframe tbody tr th:only-of-type {\n",
       "        vertical-align: middle;\n",
       "    }\n",
       "\n",
       "    .dataframe tbody tr th {\n",
       "        vertical-align: top;\n",
       "    }\n",
       "\n",
       "    .dataframe thead th {\n",
       "        text-align: right;\n",
       "    }\n",
       "</style>\n",
       "<table border=\"1\" class=\"dataframe\">\n",
       "  <thead>\n",
       "    <tr style=\"text-align: right;\">\n",
       "      <th></th>\n",
       "      <th>Size</th>\n",
       "      <th>Weight</th>\n",
       "      <th>Sweetness</th>\n",
       "      <th>Crunchiness</th>\n",
       "      <th>Juiciness</th>\n",
       "      <th>Ripeness</th>\n",
       "      <th>Acidity</th>\n",
       "    </tr>\n",
       "  </thead>\n",
       "  <tbody>\n",
       "    <tr>\n",
       "      <th>2659</th>\n",
       "      <td>-0.508144</td>\n",
       "      <td>0.406108</td>\n",
       "      <td>-0.508381</td>\n",
       "      <td>-0.057904</td>\n",
       "      <td>0.434885</td>\n",
       "      <td>0.148754</td>\n",
       "      <td>0.535242</td>\n",
       "    </tr>\n",
       "    <tr>\n",
       "      <th>3800</th>\n",
       "      <td>-0.930259</td>\n",
       "      <td>1.720949</td>\n",
       "      <td>-0.354025</td>\n",
       "      <td>0.234274</td>\n",
       "      <td>0.488709</td>\n",
       "      <td>-0.196445</td>\n",
       "      <td>-0.715754</td>\n",
       "    </tr>\n",
       "    <tr>\n",
       "      <th>2515</th>\n",
       "      <td>1.415661</td>\n",
       "      <td>-0.792099</td>\n",
       "      <td>0.678922</td>\n",
       "      <td>0.066317</td>\n",
       "      <td>0.473998</td>\n",
       "      <td>-1.040920</td>\n",
       "      <td>1.191585</td>\n",
       "    </tr>\n",
       "    <tr>\n",
       "      <th>3493</th>\n",
       "      <td>0.235048</td>\n",
       "      <td>-1.685813</td>\n",
       "      <td>2.626417</td>\n",
       "      <td>-0.054535</td>\n",
       "      <td>-0.462072</td>\n",
       "      <td>0.944966</td>\n",
       "      <td>0.564375</td>\n",
       "    </tr>\n",
       "    <tr>\n",
       "      <th>3224</th>\n",
       "      <td>-1.424689</td>\n",
       "      <td>0.763556</td>\n",
       "      <td>1.151177</td>\n",
       "      <td>-0.687783</td>\n",
       "      <td>1.141689</td>\n",
       "      <td>-0.473461</td>\n",
       "      <td>-0.871196</td>\n",
       "    </tr>\n",
       "  </tbody>\n",
       "</table>\n",
       "</div>"
      ],
      "text/plain": [
       "          Size    Weight  Sweetness  Crunchiness  Juiciness  Ripeness  \\\n",
       "2659 -0.508144  0.406108  -0.508381    -0.057904   0.434885  0.148754   \n",
       "3800 -0.930259  1.720949  -0.354025     0.234274   0.488709 -0.196445   \n",
       "2515  1.415661 -0.792099   0.678922     0.066317   0.473998 -1.040920   \n",
       "3493  0.235048 -1.685813   2.626417    -0.054535  -0.462072  0.944966   \n",
       "3224 -1.424689  0.763556   1.151177    -0.687783   1.141689 -0.473461   \n",
       "\n",
       "       Acidity  \n",
       "2659  0.535242  \n",
       "3800 -0.715754  \n",
       "2515  1.191585  \n",
       "3493  0.564375  \n",
       "3224 -0.871196  "
      ]
     },
     "execution_count": 37,
     "metadata": {},
     "output_type": "execute_result"
    }
   ],
   "source": [
    "xtest.head()"
   ]
  },
  {
   "cell_type": "code",
   "execution_count": 38,
   "metadata": {},
   "outputs": [
    {
     "name": "stdout",
     "output_type": "stream",
     "text": [
      "Classifier: Random Forest\n",
      "Accuracy: 0.89\n",
      "Precision: 0.89\n",
      "Recall: 0.89\n",
      "F1 Score: 0.89\n",
      "MCC: 0.77\n",
      "\n",
      "Classifier: Logistic Regression\n",
      "Accuracy: 0.76\n",
      "Precision: 0.76\n",
      "Recall: 0.76\n",
      "F1 Score: 0.76\n",
      "MCC: 0.51\n",
      "\n",
      "Classifier: Support Vector Machine\n",
      "Accuracy: 0.90\n",
      "Precision: 0.90\n",
      "Recall: 0.91\n",
      "F1 Score: 0.91\n",
      "MCC: 0.81\n",
      "\n"
     ]
    }
   ],
   "source": [
    "classifiers = {\n",
    "    \"Random Forest\": RandomForestClassifier(),\n",
    "    \"Logistic Regression\": LogisticRegression(),\n",
    "    \"Support Vector Machine\": SVC()\n",
    "}\n",
    "\n",
    "for name, clf in classifiers.items():\n",
    "    clf.fit(xtrain, ytrain)\n",
    "\n",
    "    yval_pred = clf.predict(xval)\n",
    "    \n",
    "    # Evaluate performance\n",
    "    accuracy = accuracy_score(yval, yval_pred)\n",
    "    precision = precision_score(yval, yval_pred)\n",
    "    recall = recall_score(yval, yval_pred)\n",
    "    f1 = f1_score(yval, yval_pred)\n",
    "    mcc = matthews_corrcoef(yval, yval_pred)\n",
    "    \n",
    "    # Print performance metrics\n",
    "    print(f\"Classifier: {name}\")\n",
    "    print(f\"Accuracy: {accuracy:.2f}\")\n",
    "    print(f\"Precision: {precision:.2f}\")\n",
    "    print(f\"Recall: {recall:.2f}\")\n",
    "    print(f\"F1 Score: {f1:.2f}\")\n",
    "    print(f\"MCC: {mcc:.2f}\")\n",
    "    print()\n"
   ]
  },
  {
   "cell_type": "code",
   "execution_count": 39,
   "metadata": {},
   "outputs": [
    {
     "name": "stdout",
     "output_type": "stream",
     "text": [
      "Classifier: K-Nearest Neighbors\n",
      "Accuracy: 0.90\n",
      "Precision: 0.91\n",
      "Recall: 0.88\n",
      "F1 Score: 0.90\n",
      "MCC: 0.79\n",
      "\n",
      "Classifier: Decision Tree\n",
      "Accuracy: 0.78\n",
      "Precision: 0.79\n",
      "Recall: 0.77\n",
      "F1 Score: 0.78\n",
      "MCC: 0.56\n",
      "\n",
      "Classifier: Naive Bayes\n",
      "Accuracy: 0.76\n",
      "Precision: 0.77\n",
      "Recall: 0.76\n",
      "F1 Score: 0.76\n",
      "MCC: 0.53\n",
      "\n",
      "Classifier: Multi-Layer Perceptron\n",
      "Accuracy: 0.93\n",
      "Precision: 0.93\n",
      "Recall: 0.92\n",
      "F1 Score: 0.93\n",
      "MCC: 0.85\n",
      "\n"
     ]
    }
   ],
   "source": [
    "classifiers = {\n",
    "    \"K-Nearest Neighbors\": KNeighborsClassifier(),\n",
    "    \"Decision Tree\": DecisionTreeClassifier(),\n",
    "    \"Naive Bayes\": GaussianNB(),\n",
    "    \"Multi-Layer Perceptron\": MLPClassifier()\n",
    "}\n",
    "\n",
    "for name, clf in classifiers.items():\n",
    "    clf.fit(xtrain, ytrain)\n",
    "\n",
    "    yval_pred = clf.predict(xval)\n",
    "    \n",
    "    # Evaluate performance\n",
    "    accuracy = accuracy_score(yval, yval_pred)\n",
    "    precision = precision_score(yval, yval_pred)\n",
    "    recall = recall_score(yval, yval_pred)\n",
    "    f1 = f1_score(yval, yval_pred)\n",
    "    mcc = matthews_corrcoef(yval, yval_pred)\n",
    "    \n",
    "    # Print performance metrics\n",
    "    print(f\"Classifier: {name}\")\n",
    "    print(f\"Accuracy: {accuracy:.2f}\")\n",
    "    print(f\"Precision: {precision:.2f}\")\n",
    "    print(f\"Recall: {recall:.2f}\")\n",
    "    print(f\"F1 Score: {f1:.2f}\")\n",
    "    print(f\"MCC: {mcc:.2f}\")\n",
    "    print()"
   ]
  },
  {
   "cell_type": "code",
   "execution_count": 40,
   "metadata": {},
   "outputs": [
    {
     "name": "stdout",
     "output_type": "stream",
     "text": [
      "Epoch 1/50\n"
     ]
    },
    {
     "name": "stderr",
     "output_type": "stream",
     "text": [
      "2024-02-16 13:29:40.121675: W tensorflow/tsl/platform/profile_utils/cpu_utils.cc:128] Failed to get CPU frequency: 0 Hz\n"
     ]
    },
    {
     "name": "stdout",
     "output_type": "stream",
     "text": [
      "88/88 [==============================] - 0s 361us/step - loss: 0.7424 - accuracy: 0.4775\n",
      "Epoch 2/50\n",
      "88/88 [==============================] - 0s 289us/step - loss: 0.6880 - accuracy: 0.5586\n",
      "Epoch 3/50\n",
      "88/88 [==============================] - 0s 286us/step - loss: 0.6567 - accuracy: 0.6082\n",
      "Epoch 4/50\n",
      "88/88 [==============================] - 0s 285us/step - loss: 0.6315 - accuracy: 0.6389\n",
      "Epoch 5/50\n",
      "88/88 [==============================] - 0s 284us/step - loss: 0.6079 - accuracy: 0.6604\n",
      "Epoch 6/50\n",
      "88/88 [==============================] - 0s 284us/step - loss: 0.5836 - accuracy: 0.6789\n",
      "Epoch 7/50\n",
      "88/88 [==============================] - 0s 283us/step - loss: 0.5531 - accuracy: 0.7100\n",
      "Epoch 8/50\n",
      "88/88 [==============================] - 0s 288us/step - loss: 0.5132 - accuracy: 0.7496\n",
      "Epoch 9/50\n",
      "88/88 [==============================] - 0s 293us/step - loss: 0.4772 - accuracy: 0.7632\n",
      "Epoch 10/50\n",
      "88/88 [==============================] - 0s 289us/step - loss: 0.4517 - accuracy: 0.7807\n",
      "Epoch 11/50\n",
      "88/88 [==============================] - 0s 290us/step - loss: 0.4339 - accuracy: 0.7882\n",
      "Epoch 12/50\n",
      "88/88 [==============================] - 0s 287us/step - loss: 0.4199 - accuracy: 0.7950\n",
      "Epoch 13/50\n",
      "88/88 [==============================] - 0s 291us/step - loss: 0.4089 - accuracy: 0.8014\n",
      "Epoch 14/50\n",
      "88/88 [==============================] - 0s 290us/step - loss: 0.4007 - accuracy: 0.8071\n",
      "Epoch 15/50\n",
      "88/88 [==============================] - 0s 290us/step - loss: 0.3939 - accuracy: 0.8129\n",
      "Epoch 16/50\n",
      "88/88 [==============================] - 0s 281us/step - loss: 0.3882 - accuracy: 0.8168\n",
      "Epoch 17/50\n",
      "88/88 [==============================] - 0s 287us/step - loss: 0.3835 - accuracy: 0.8179\n",
      "Epoch 18/50\n",
      "88/88 [==============================] - 0s 287us/step - loss: 0.3791 - accuracy: 0.8186\n",
      "Epoch 19/50\n",
      "88/88 [==============================] - 0s 286us/step - loss: 0.3751 - accuracy: 0.8229\n",
      "Epoch 20/50\n",
      "88/88 [==============================] - 0s 285us/step - loss: 0.3717 - accuracy: 0.8236\n",
      "Epoch 21/50\n",
      "88/88 [==============================] - 0s 282us/step - loss: 0.3682 - accuracy: 0.8261\n",
      "Epoch 22/50\n",
      "88/88 [==============================] - 0s 280us/step - loss: 0.3653 - accuracy: 0.8307\n",
      "Epoch 23/50\n",
      "88/88 [==============================] - 0s 283us/step - loss: 0.3620 - accuracy: 0.8311\n",
      "Epoch 24/50\n",
      "88/88 [==============================] - 0s 285us/step - loss: 0.3595 - accuracy: 0.8329\n",
      "Epoch 25/50\n",
      "88/88 [==============================] - 0s 282us/step - loss: 0.3559 - accuracy: 0.8364\n",
      "Epoch 26/50\n",
      "88/88 [==============================] - 0s 280us/step - loss: 0.3537 - accuracy: 0.8379\n",
      "Epoch 27/50\n",
      "88/88 [==============================] - 0s 282us/step - loss: 0.3508 - accuracy: 0.8386\n",
      "Epoch 28/50\n",
      "88/88 [==============================] - 0s 283us/step - loss: 0.3482 - accuracy: 0.8411\n",
      "Epoch 29/50\n",
      "88/88 [==============================] - 0s 283us/step - loss: 0.3458 - accuracy: 0.8421\n",
      "Epoch 30/50\n",
      "88/88 [==============================] - 0s 280us/step - loss: 0.3430 - accuracy: 0.8436\n",
      "Epoch 31/50\n",
      "88/88 [==============================] - 0s 277us/step - loss: 0.3409 - accuracy: 0.8436\n",
      "Epoch 32/50\n",
      "88/88 [==============================] - 0s 278us/step - loss: 0.3386 - accuracy: 0.8450\n",
      "Epoch 33/50\n",
      "88/88 [==============================] - 0s 282us/step - loss: 0.3367 - accuracy: 0.8446\n",
      "Epoch 34/50\n",
      "88/88 [==============================] - 0s 276us/step - loss: 0.3351 - accuracy: 0.8475\n",
      "Epoch 35/50\n",
      "88/88 [==============================] - 0s 280us/step - loss: 0.3336 - accuracy: 0.8457\n",
      "Epoch 36/50\n",
      "88/88 [==============================] - 0s 284us/step - loss: 0.3320 - accuracy: 0.8504\n",
      "Epoch 37/50\n",
      "88/88 [==============================] - 0s 282us/step - loss: 0.3310 - accuracy: 0.8496\n",
      "Epoch 38/50\n",
      "88/88 [==============================] - 0s 281us/step - loss: 0.3294 - accuracy: 0.8504\n",
      "Epoch 39/50\n",
      "88/88 [==============================] - 0s 281us/step - loss: 0.3281 - accuracy: 0.8536\n",
      "Epoch 40/50\n",
      "88/88 [==============================] - 0s 281us/step - loss: 0.3271 - accuracy: 0.8500\n",
      "Epoch 41/50\n",
      "88/88 [==============================] - 0s 276us/step - loss: 0.3264 - accuracy: 0.8532\n",
      "Epoch 42/50\n",
      "88/88 [==============================] - 0s 280us/step - loss: 0.3256 - accuracy: 0.8518\n",
      "Epoch 43/50\n",
      "88/88 [==============================] - 0s 280us/step - loss: 0.3243 - accuracy: 0.8514\n",
      "Epoch 44/50\n",
      "88/88 [==============================] - 0s 279us/step - loss: 0.3241 - accuracy: 0.8514\n",
      "Epoch 45/50\n",
      "88/88 [==============================] - 0s 278us/step - loss: 0.3228 - accuracy: 0.8554\n",
      "Epoch 46/50\n",
      "88/88 [==============================] - 0s 279us/step - loss: 0.3223 - accuracy: 0.8529\n",
      "Epoch 47/50\n",
      "88/88 [==============================] - 0s 279us/step - loss: 0.3218 - accuracy: 0.8554\n",
      "Epoch 48/50\n",
      "88/88 [==============================] - 0s 278us/step - loss: 0.3203 - accuracy: 0.8539\n",
      "Epoch 49/50\n",
      "88/88 [==============================] - 0s 279us/step - loss: 0.3207 - accuracy: 0.8564\n",
      "Epoch 50/50\n",
      "88/88 [==============================] - 0s 281us/step - loss: 0.3203 - accuracy: 0.8554\n"
     ]
    }
   ],
   "source": [
    "tf.random.set_seed(42)\n",
    "\n",
    "fnn1 = tf.keras.Sequential([\n",
    "    tf.keras.layers.Dense(units=5, activation = 'relu'),\n",
    "    tf.keras.layers.Dense(units=5, activation = 'relu'),\n",
    "    tf.keras.layers.Dense(units=1, activation = 'sigmoid')\n",
    "])\n",
    "\n",
    "fnn1.compile(\n",
    "    loss = tf.keras.losses.binary_crossentropy,\n",
    "    optimizer = tf.keras.optimizers.legacy.Adam(),\n",
    "    metrics=['accuracy']\n",
    ")\n",
    "\n",
    "fnn1_fitting = fnn1.fit(xtrain, ytrain, epochs = 50)"
   ]
  },
  {
   "cell_type": "code",
   "execution_count": 41,
   "metadata": {},
   "outputs": [
    {
     "name": "stdout",
     "output_type": "stream",
     "text": [
      "19/19 [==============================] - 0s 344us/step - loss: 0.3500 - accuracy: 0.8483\n",
      "Model loss on the validation set is : 0.349950909614563\n",
      "Model accuracy on the validation set is : 0.8483333587646484\n"
     ]
    }
   ],
   "source": [
    "loss, accuracy = fnn1.evaluate(xval, yval)\n",
    "print(f'Model loss on the validation set is : {loss}')\n",
    "print(f'Model accuracy on the validation set is : {accuracy}')"
   ]
  },
  {
   "cell_type": "code",
   "execution_count": 42,
   "metadata": {},
   "outputs": [
    {
     "name": "stdout",
     "output_type": "stream",
     "text": [
      "Reloading Tuner from keras_tuner_logs/binary_classification/tuner0.json\n",
      "Epoch 1/100\n",
      "88/88 [==============================] - 0s 1ms/step - loss: 0.4037 - accuracy: 0.8061 - val_loss: 0.3150 - val_accuracy: 0.8700\n",
      "Epoch 2/100\n",
      "88/88 [==============================] - 0s 479us/step - loss: 0.3053 - accuracy: 0.8636 - val_loss: 0.2977 - val_accuracy: 0.8850\n",
      "Epoch 3/100\n",
      "88/88 [==============================] - 0s 487us/step - loss: 0.2790 - accuracy: 0.8807 - val_loss: 0.2836 - val_accuracy: 0.8783\n",
      "Epoch 4/100\n",
      "88/88 [==============================] - 0s 481us/step - loss: 0.2584 - accuracy: 0.8882 - val_loss: 0.2956 - val_accuracy: 0.8967\n",
      "Epoch 5/100\n",
      "88/88 [==============================] - 0s 482us/step - loss: 0.2458 - accuracy: 0.8893 - val_loss: 0.2631 - val_accuracy: 0.9000\n",
      "Epoch 6/100\n",
      "88/88 [==============================] - 0s 476us/step - loss: 0.2337 - accuracy: 0.9007 - val_loss: 0.2590 - val_accuracy: 0.9117\n",
      "Epoch 7/100\n",
      "88/88 [==============================] - 0s 455us/step - loss: 0.2188 - accuracy: 0.9075 - val_loss: 0.2660 - val_accuracy: 0.9083\n",
      "Epoch 8/100\n",
      "88/88 [==============================] - 0s 449us/step - loss: 0.2119 - accuracy: 0.9107 - val_loss: 0.2571 - val_accuracy: 0.9183\n",
      "Epoch 9/100\n",
      "88/88 [==============================] - 0s 451us/step - loss: 0.1966 - accuracy: 0.9182 - val_loss: 0.2558 - val_accuracy: 0.9200\n",
      "Epoch 10/100\n",
      "88/88 [==============================] - 0s 447us/step - loss: 0.1910 - accuracy: 0.9225 - val_loss: 0.2318 - val_accuracy: 0.9333\n",
      "Epoch 11/100\n",
      "88/88 [==============================] - 0s 453us/step - loss: 0.1861 - accuracy: 0.9279 - val_loss: 0.2427 - val_accuracy: 0.9183\n",
      "Epoch 12/100\n",
      "88/88 [==============================] - 0s 447us/step - loss: 0.1743 - accuracy: 0.9371 - val_loss: 0.2368 - val_accuracy: 0.9167\n",
      "Epoch 13/100\n",
      "88/88 [==============================] - 0s 449us/step - loss: 0.1720 - accuracy: 0.9396 - val_loss: 0.2484 - val_accuracy: 0.9083\n",
      "Epoch 14/100\n",
      "88/88 [==============================] - 0s 481us/step - loss: 0.1602 - accuracy: 0.9421 - val_loss: 0.2726 - val_accuracy: 0.9100\n",
      "Epoch 15/100\n",
      "88/88 [==============================] - 0s 475us/step - loss: 0.1535 - accuracy: 0.9418 - val_loss: 0.2407 - val_accuracy: 0.9183\n",
      "Epoch 16/100\n",
      "88/88 [==============================] - 0s 453us/step - loss: 0.1545 - accuracy: 0.9343 - val_loss: 0.2691 - val_accuracy: 0.9017\n",
      "Epoch 17/100\n",
      "88/88 [==============================] - 0s 469us/step - loss: 0.1473 - accuracy: 0.9429 - val_loss: 0.2367 - val_accuracy: 0.9200\n",
      "Epoch 18/100\n",
      "88/88 [==============================] - 0s 476us/step - loss: 0.1445 - accuracy: 0.9482 - val_loss: 0.2910 - val_accuracy: 0.8917\n",
      "Epoch 19/100\n",
      "88/88 [==============================] - 0s 479us/step - loss: 0.1417 - accuracy: 0.9425 - val_loss: 0.2401 - val_accuracy: 0.9283\n",
      "Epoch 20/100\n",
      "88/88 [==============================] - 0s 472us/step - loss: 0.1384 - accuracy: 0.9461 - val_loss: 0.2327 - val_accuracy: 0.9283\n",
      "Epoch 21/100\n",
      "88/88 [==============================] - 0s 478us/step - loss: 0.1257 - accuracy: 0.9521 - val_loss: 0.2589 - val_accuracy: 0.9233\n",
      "Epoch 22/100\n",
      "88/88 [==============================] - 0s 475us/step - loss: 0.1333 - accuracy: 0.9518 - val_loss: 0.3378 - val_accuracy: 0.8983\n",
      "Epoch 23/100\n",
      "88/88 [==============================] - 0s 475us/step - loss: 0.1298 - accuracy: 0.9475 - val_loss: 0.2618 - val_accuracy: 0.9100\n",
      "Epoch 24/100\n",
      "88/88 [==============================] - 0s 476us/step - loss: 0.1265 - accuracy: 0.9504 - val_loss: 0.2315 - val_accuracy: 0.9317\n",
      "Epoch 25/100\n",
      "88/88 [==============================] - 0s 473us/step - loss: 0.1126 - accuracy: 0.9532 - val_loss: 0.2328 - val_accuracy: 0.9300\n",
      "Epoch 26/100\n",
      "88/88 [==============================] - 0s 480us/step - loss: 0.1219 - accuracy: 0.9539 - val_loss: 0.2091 - val_accuracy: 0.9400\n",
      "Epoch 27/100\n",
      "88/88 [==============================] - 0s 472us/step - loss: 0.1066 - accuracy: 0.9568 - val_loss: 0.2873 - val_accuracy: 0.9300\n",
      "Epoch 28/100\n",
      "88/88 [==============================] - 0s 474us/step - loss: 0.1151 - accuracy: 0.9586 - val_loss: 0.2621 - val_accuracy: 0.9167\n",
      "Epoch 29/100\n",
      "88/88 [==============================] - 0s 475us/step - loss: 0.1061 - accuracy: 0.9607 - val_loss: 0.3045 - val_accuracy: 0.9217\n",
      "Epoch 30/100\n",
      "88/88 [==============================] - 0s 467us/step - loss: 0.1095 - accuracy: 0.9589 - val_loss: 0.2500 - val_accuracy: 0.9367\n",
      "Epoch 31/100\n",
      "88/88 [==============================] - 0s 458us/step - loss: 0.1109 - accuracy: 0.9589 - val_loss: 0.2429 - val_accuracy: 0.9317\n",
      "Epoch 32/100\n",
      "88/88 [==============================] - 0s 451us/step - loss: 0.1069 - accuracy: 0.9621 - val_loss: 0.2482 - val_accuracy: 0.9317\n",
      "Epoch 33/100\n",
      "88/88 [==============================] - 0s 454us/step - loss: 0.0950 - accuracy: 0.9654 - val_loss: 0.2877 - val_accuracy: 0.9283\n",
      "Epoch 34/100\n",
      "88/88 [==============================] - 0s 464us/step - loss: 0.0981 - accuracy: 0.9621 - val_loss: 0.2584 - val_accuracy: 0.9367\n",
      "Epoch 35/100\n",
      "88/88 [==============================] - 0s 474us/step - loss: 0.0965 - accuracy: 0.9607 - val_loss: 0.3292 - val_accuracy: 0.9183\n",
      "Epoch 36/100\n",
      "88/88 [==============================] - 0s 468us/step - loss: 0.1000 - accuracy: 0.9636 - val_loss: 0.3023 - val_accuracy: 0.9200\n",
      "Epoch 37/100\n",
      "88/88 [==============================] - 0s 469us/step - loss: 0.1005 - accuracy: 0.9632 - val_loss: 0.2524 - val_accuracy: 0.9300\n",
      "Epoch 38/100\n",
      "88/88 [==============================] - 0s 458us/step - loss: 0.0911 - accuracy: 0.9668 - val_loss: 0.2898 - val_accuracy: 0.9200\n",
      "Epoch 39/100\n",
      "88/88 [==============================] - 0s 467us/step - loss: 0.0922 - accuracy: 0.9657 - val_loss: 0.3013 - val_accuracy: 0.9183\n",
      "Epoch 40/100\n",
      "88/88 [==============================] - 0s 730us/step - loss: 0.0925 - accuracy: 0.9679 - val_loss: 0.2600 - val_accuracy: 0.9367\n",
      "Epoch 41/100\n",
      "88/88 [==============================] - 0s 461us/step - loss: 0.0916 - accuracy: 0.9711 - val_loss: 0.3395 - val_accuracy: 0.9117\n",
      "Epoch 42/100\n",
      "88/88 [==============================] - 0s 462us/step - loss: 0.0861 - accuracy: 0.9675 - val_loss: 0.3372 - val_accuracy: 0.9233\n",
      "Epoch 43/100\n",
      "88/88 [==============================] - 0s 477us/step - loss: 0.0892 - accuracy: 0.9725 - val_loss: 0.2944 - val_accuracy: 0.9333\n",
      "Epoch 44/100\n",
      "88/88 [==============================] - 0s 461us/step - loss: 0.0863 - accuracy: 0.9682 - val_loss: 0.3215 - val_accuracy: 0.9233\n",
      "Epoch 45/100\n",
      "88/88 [==============================] - 0s 472us/step - loss: 0.0820 - accuracy: 0.9707 - val_loss: 0.4459 - val_accuracy: 0.9050\n",
      "Epoch 46/100\n",
      "88/88 [==============================] - 0s 460us/step - loss: 0.0891 - accuracy: 0.9696 - val_loss: 0.3108 - val_accuracy: 0.9233\n",
      "Epoch 47/100\n",
      "88/88 [==============================] - 0s 458us/step - loss: 0.0800 - accuracy: 0.9686 - val_loss: 0.3401 - val_accuracy: 0.9333\n",
      "Epoch 48/100\n",
      "88/88 [==============================] - 0s 457us/step - loss: 0.0850 - accuracy: 0.9729 - val_loss: 0.4665 - val_accuracy: 0.9050\n",
      "Epoch 49/100\n",
      "88/88 [==============================] - 0s 449us/step - loss: 0.0880 - accuracy: 0.9671 - val_loss: 0.2921 - val_accuracy: 0.9467\n",
      "Epoch 50/100\n",
      "88/88 [==============================] - 0s 452us/step - loss: 0.0786 - accuracy: 0.9729 - val_loss: 0.3754 - val_accuracy: 0.9167\n",
      "Epoch 51/100\n",
      "88/88 [==============================] - 0s 450us/step - loss: 0.0815 - accuracy: 0.9689 - val_loss: 0.3123 - val_accuracy: 0.9433\n",
      "Epoch 52/100\n",
      "88/88 [==============================] - 0s 449us/step - loss: 0.0822 - accuracy: 0.9693 - val_loss: 0.3045 - val_accuracy: 0.9400\n",
      "Epoch 53/100\n",
      "88/88 [==============================] - 0s 448us/step - loss: 0.0843 - accuracy: 0.9700 - val_loss: 0.2918 - val_accuracy: 0.9367\n",
      "Epoch 54/100\n",
      "88/88 [==============================] - 0s 449us/step - loss: 0.0793 - accuracy: 0.9721 - val_loss: 0.3400 - val_accuracy: 0.9283\n",
      "Epoch 55/100\n",
      "88/88 [==============================] - 0s 449us/step - loss: 0.0822 - accuracy: 0.9725 - val_loss: 0.3553 - val_accuracy: 0.9350\n",
      "Epoch 56/100\n",
      "88/88 [==============================] - 0s 450us/step - loss: 0.0780 - accuracy: 0.9721 - val_loss: 0.3482 - val_accuracy: 0.9400\n",
      "Epoch 57/100\n",
      "88/88 [==============================] - 0s 456us/step - loss: 0.0774 - accuracy: 0.9739 - val_loss: 0.3924 - val_accuracy: 0.9233\n",
      "Epoch 58/100\n",
      "88/88 [==============================] - 0s 450us/step - loss: 0.0737 - accuracy: 0.9757 - val_loss: 0.3388 - val_accuracy: 0.9283\n",
      "Epoch 59/100\n",
      "88/88 [==============================] - 0s 450us/step - loss: 0.0784 - accuracy: 0.9729 - val_loss: 0.3628 - val_accuracy: 0.9283\n",
      "Epoch 60/100\n",
      "88/88 [==============================] - 0s 449us/step - loss: 0.0708 - accuracy: 0.9714 - val_loss: 0.3678 - val_accuracy: 0.9333\n",
      "Epoch 61/100\n",
      "88/88 [==============================] - 0s 451us/step - loss: 0.0720 - accuracy: 0.9732 - val_loss: 0.3068 - val_accuracy: 0.9400\n",
      "Epoch 62/100\n",
      "88/88 [==============================] - 0s 450us/step - loss: 0.0711 - accuracy: 0.9721 - val_loss: 0.3242 - val_accuracy: 0.9450\n",
      "Epoch 63/100\n",
      "88/88 [==============================] - 0s 445us/step - loss: 0.0673 - accuracy: 0.9782 - val_loss: 0.3921 - val_accuracy: 0.9283\n",
      "Epoch 64/100\n",
      "88/88 [==============================] - 0s 449us/step - loss: 0.0639 - accuracy: 0.9761 - val_loss: 0.3909 - val_accuracy: 0.9417\n",
      "Epoch 65/100\n",
      "88/88 [==============================] - 0s 450us/step - loss: 0.0642 - accuracy: 0.9789 - val_loss: 0.4133 - val_accuracy: 0.9250\n",
      "Epoch 66/100\n",
      "88/88 [==============================] - 0s 449us/step - loss: 0.0739 - accuracy: 0.9746 - val_loss: 0.3759 - val_accuracy: 0.9250\n",
      "Epoch 67/100\n",
      "88/88 [==============================] - 0s 449us/step - loss: 0.0613 - accuracy: 0.9779 - val_loss: 0.3728 - val_accuracy: 0.9350\n",
      "Epoch 68/100\n",
      "88/88 [==============================] - 0s 445us/step - loss: 0.0724 - accuracy: 0.9771 - val_loss: 0.4119 - val_accuracy: 0.9183\n",
      "Epoch 69/100\n",
      "88/88 [==============================] - 0s 449us/step - loss: 0.0650 - accuracy: 0.9754 - val_loss: 0.4305 - val_accuracy: 0.9317\n",
      "Epoch 70/100\n",
      "88/88 [==============================] - 0s 453us/step - loss: 0.0695 - accuracy: 0.9743 - val_loss: 0.4017 - val_accuracy: 0.9317\n",
      "Epoch 71/100\n",
      "88/88 [==============================] - 0s 452us/step - loss: 0.0631 - accuracy: 0.9789 - val_loss: 0.3665 - val_accuracy: 0.9383\n",
      "Epoch 72/100\n",
      "88/88 [==============================] - 0s 451us/step - loss: 0.0656 - accuracy: 0.9739 - val_loss: 0.4240 - val_accuracy: 0.9183\n",
      "Epoch 73/100\n",
      "88/88 [==============================] - 0s 456us/step - loss: 0.0723 - accuracy: 0.9775 - val_loss: 0.4036 - val_accuracy: 0.9333\n",
      "Epoch 74/100\n",
      "88/88 [==============================] - 0s 472us/step - loss: 0.0686 - accuracy: 0.9764 - val_loss: 0.4380 - val_accuracy: 0.9267\n",
      "Epoch 75/100\n",
      "88/88 [==============================] - 0s 477us/step - loss: 0.0676 - accuracy: 0.9746 - val_loss: 0.3668 - val_accuracy: 0.9283\n",
      "Epoch 76/100\n",
      "88/88 [==============================] - 0s 473us/step - loss: 0.0679 - accuracy: 0.9775 - val_loss: 0.4260 - val_accuracy: 0.9317\n",
      "Epoch 77/100\n",
      "88/88 [==============================] - 0s 476us/step - loss: 0.0648 - accuracy: 0.9775 - val_loss: 0.4084 - val_accuracy: 0.9333\n",
      "Epoch 78/100\n",
      "88/88 [==============================] - 0s 474us/step - loss: 0.0660 - accuracy: 0.9779 - val_loss: 0.3521 - val_accuracy: 0.9217\n",
      "Epoch 79/100\n",
      "88/88 [==============================] - 0s 481us/step - loss: 0.0583 - accuracy: 0.9800 - val_loss: 0.3700 - val_accuracy: 0.9300\n",
      "Epoch 80/100\n",
      "88/88 [==============================] - 0s 471us/step - loss: 0.0587 - accuracy: 0.9800 - val_loss: 0.4423 - val_accuracy: 0.9350\n",
      "Epoch 81/100\n",
      "88/88 [==============================] - 0s 454us/step - loss: 0.0635 - accuracy: 0.9786 - val_loss: 0.4320 - val_accuracy: 0.9300\n",
      "Epoch 82/100\n",
      "88/88 [==============================] - 0s 459us/step - loss: 0.0569 - accuracy: 0.9818 - val_loss: 0.4242 - val_accuracy: 0.9183\n",
      "Epoch 83/100\n",
      "88/88 [==============================] - 0s 453us/step - loss: 0.0663 - accuracy: 0.9811 - val_loss: 0.3838 - val_accuracy: 0.9333\n",
      "Epoch 84/100\n",
      "88/88 [==============================] - 0s 463us/step - loss: 0.0515 - accuracy: 0.9821 - val_loss: 0.5209 - val_accuracy: 0.9217\n",
      "Epoch 85/100\n",
      "88/88 [==============================] - 0s 459us/step - loss: 0.0639 - accuracy: 0.9793 - val_loss: 0.4461 - val_accuracy: 0.9317\n",
      "Epoch 86/100\n",
      "88/88 [==============================] - 0s 469us/step - loss: 0.0517 - accuracy: 0.9796 - val_loss: 0.4653 - val_accuracy: 0.9183\n",
      "Epoch 87/100\n",
      "88/88 [==============================] - 0s 467us/step - loss: 0.0519 - accuracy: 0.9832 - val_loss: 0.4922 - val_accuracy: 0.9367\n",
      "Epoch 88/100\n",
      "88/88 [==============================] - 0s 460us/step - loss: 0.0561 - accuracy: 0.9811 - val_loss: 0.4766 - val_accuracy: 0.9183\n",
      "Epoch 89/100\n",
      "88/88 [==============================] - 0s 472us/step - loss: 0.0604 - accuracy: 0.9807 - val_loss: 0.4876 - val_accuracy: 0.9217\n",
      "Epoch 90/100\n",
      "88/88 [==============================] - 0s 460us/step - loss: 0.0465 - accuracy: 0.9829 - val_loss: 0.4826 - val_accuracy: 0.9300\n",
      "Epoch 91/100\n",
      "88/88 [==============================] - 0s 454us/step - loss: 0.0668 - accuracy: 0.9804 - val_loss: 0.4101 - val_accuracy: 0.9283\n",
      "Epoch 92/100\n",
      "88/88 [==============================] - 0s 454us/step - loss: 0.0506 - accuracy: 0.9818 - val_loss: 0.5028 - val_accuracy: 0.9283\n",
      "Epoch 93/100\n",
      "88/88 [==============================] - 0s 450us/step - loss: 0.0549 - accuracy: 0.9800 - val_loss: 0.4747 - val_accuracy: 0.9250\n",
      "Epoch 94/100\n",
      "88/88 [==============================] - 0s 453us/step - loss: 0.0545 - accuracy: 0.9818 - val_loss: 0.5261 - val_accuracy: 0.9200\n",
      "Epoch 95/100\n",
      "88/88 [==============================] - 0s 454us/step - loss: 0.0520 - accuracy: 0.9814 - val_loss: 0.4694 - val_accuracy: 0.9183\n",
      "Epoch 96/100\n",
      "88/88 [==============================] - 0s 449us/step - loss: 0.0491 - accuracy: 0.9850 - val_loss: 0.4987 - val_accuracy: 0.9367\n",
      "Epoch 97/100\n",
      "88/88 [==============================] - 0s 456us/step - loss: 0.0589 - accuracy: 0.9804 - val_loss: 0.5398 - val_accuracy: 0.9217\n",
      "Epoch 98/100\n",
      "88/88 [==============================] - 0s 449us/step - loss: 0.0555 - accuracy: 0.9793 - val_loss: 0.4875 - val_accuracy: 0.9350\n",
      "Epoch 99/100\n",
      "88/88 [==============================] - 0s 452us/step - loss: 0.0571 - accuracy: 0.9836 - val_loss: 0.5449 - val_accuracy: 0.9167\n",
      "Epoch 100/100\n",
      "88/88 [==============================] - 0s 450us/step - loss: 0.0565 - accuracy: 0.9825 - val_loss: 0.4554 - val_accuracy: 0.9233\n",
      "19/19 [==============================] - 0s 293us/step - loss: 0.4554 - accuracy: 0.9233\n"
     ]
    },
    {
     "data": {
      "text/plain": [
       "[0.45538854598999023, 0.9233333468437195]"
      ]
     },
     "execution_count": 42,
     "metadata": {},
     "output_type": "execute_result"
    }
   ],
   "source": [
    "\n",
    "def build_model(hp):\n",
    "    model = keras.Sequential()\n",
    "\n",
    "    \n",
    "    for i in range(hp.Int('num_layers', 1, 5)):\n",
    "        model.add(layers.Dense(units=hp.Int('units_' + str(i),\n",
    "                                            min_value=5,\n",
    "                                            max_value=50,\n",
    "                                            step=5),\n",
    "                               activation='relu'))\n",
    "\n",
    "    model.add(layers.Dense(1, activation='sigmoid'))\n",
    "\n",
    "    \n",
    "    hp_learning_rate = hp.Choice('learning_rate', values=[1e-2, 1e-3, 1e-4])\n",
    "\n",
    "    \n",
    "    optimizer_choice = hp.Choice('optimizer', values=['adam', 'rmsprop', 'sgd'])\n",
    "\n",
    "    if optimizer_choice == 'adam':\n",
    "        optimizer = tf.keras.optimizers.Adam(learning_rate=hp_learning_rate)\n",
    "    elif optimizer_choice == 'rmsprop':\n",
    "        optimizer = tf.keras.optimizers.legacy.RMSprop(learning_rate=hp_learning_rate)\n",
    "    else:\n",
    "        optimizer = tf.keras.optimizers.SGD(learning_rate=hp_learning_rate)\n",
    "\n",
    "    model.compile(optimizer=optimizer,\n",
    "                  loss=tf.keras.losses.binary_crossentropy,\n",
    "                  metrics=['accuracy'])\n",
    "\n",
    "    return model\n",
    "\n",
    "tuner = RandomSearch(\n",
    "    build_model,\n",
    "    objective='val_accuracy',  \n",
    "    max_trials=5,  \n",
    "    executions_per_trial=1,  \n",
    "    directory='keras_tuner_logs',  \n",
    "    project_name='binary_classification')  \n",
    "\n",
    "tuner.search(xtrain, ytrain, epochs=100, validation_data=(xval, yval))\n",
    "\n",
    "best_hps = tuner.get_best_hyperparameters(num_trials=1)[0]\n",
    "\n",
    "best_hps.values['epochs'] = 100 \n",
    "\n",
    "best_model = tuner.hypermodel.build(best_hps)\n",
    "\n",
    "best_model.fit(xtrain, ytrain, epochs=best_hps.values['epochs'], validation_data=(xval, yval))\n",
    "\n",
    "best_model.evaluate(xval, yval)\n"
   ]
  },
  {
   "cell_type": "code",
   "execution_count": 43,
   "metadata": {},
   "outputs": [
    {
     "name": "stdout",
     "output_type": "stream",
     "text": [
      "Reloading Tuner from keras_tuner_logs/binary_classification/tuner0.json\n"
     ]
    },
    {
     "name": "stderr",
     "output_type": "stream",
     "text": [
      "WARNING:absl:At this time, the v2.11+ optimizer `tf.keras.optimizers.RMSprop` runs slowly on M1/M2 Macs, please use the legacy Keras optimizer instead, located at `tf.keras.optimizers.legacy.RMSprop`.\n",
      "WARNING:absl:There is a known slowdown when using v2.11+ Keras optimizers on M1/M2 Macs. Falling back to the legacy Keras optimizer, i.e., `tf.keras.optimizers.legacy.RMSprop`.\n"
     ]
    },
    {
     "name": "stdout",
     "output_type": "stream",
     "text": [
      "Epoch 1/100\n",
      "88/88 [==============================] - 0s 1ms/step - loss: 0.4836 - accuracy: 0.7586 - val_loss: 0.3387 - val_accuracy: 0.8550\n",
      "Epoch 2/100\n",
      "88/88 [==============================] - 0s 505us/step - loss: 0.4020 - accuracy: 0.8236 - val_loss: 0.3219 - val_accuracy: 0.8667\n",
      "Epoch 3/100\n",
      "88/88 [==============================] - 0s 489us/step - loss: 0.3499 - accuracy: 0.8500 - val_loss: 0.3259 - val_accuracy: 0.8633\n",
      "Epoch 4/100\n",
      "88/88 [==============================] - 0s 499us/step - loss: 0.3531 - accuracy: 0.8457 - val_loss: 0.3051 - val_accuracy: 0.8750\n",
      "Epoch 5/100\n",
      "88/88 [==============================] - 0s 496us/step - loss: 0.3362 - accuracy: 0.8554 - val_loss: 0.3100 - val_accuracy: 0.8783\n",
      "Epoch 6/100\n",
      "88/88 [==============================] - 0s 504us/step - loss: 0.3359 - accuracy: 0.8579 - val_loss: 0.3141 - val_accuracy: 0.8850\n",
      "Epoch 7/100\n",
      "88/88 [==============================] - 0s 514us/step - loss: 0.3218 - accuracy: 0.8668 - val_loss: 0.3282 - val_accuracy: 0.8817\n",
      "Epoch 8/100\n",
      "88/88 [==============================] - 0s 520us/step - loss: 0.3184 - accuracy: 0.8679 - val_loss: 0.2919 - val_accuracy: 0.8883\n",
      "Epoch 9/100\n",
      "88/88 [==============================] - 0s 517us/step - loss: 0.2950 - accuracy: 0.8739 - val_loss: 0.2955 - val_accuracy: 0.9050\n",
      "Epoch 10/100\n",
      "88/88 [==============================] - 0s 513us/step - loss: 0.3101 - accuracy: 0.8686 - val_loss: 0.3071 - val_accuracy: 0.8917\n",
      "Epoch 11/100\n",
      "88/88 [==============================] - 0s 507us/step - loss: 0.3011 - accuracy: 0.8718 - val_loss: 0.3118 - val_accuracy: 0.8850\n",
      "Epoch 12/100\n",
      "88/88 [==============================] - 0s 519us/step - loss: 0.3110 - accuracy: 0.8704 - val_loss: 0.3291 - val_accuracy: 0.8783\n",
      "Epoch 13/100\n",
      "88/88 [==============================] - 0s 520us/step - loss: 0.2991 - accuracy: 0.8761 - val_loss: 0.2910 - val_accuracy: 0.8967\n",
      "Epoch 14/100\n",
      "88/88 [==============================] - 0s 519us/step - loss: 0.2877 - accuracy: 0.8814 - val_loss: 0.3134 - val_accuracy: 0.9000\n",
      "Epoch 15/100\n",
      "88/88 [==============================] - 0s 516us/step - loss: 0.2828 - accuracy: 0.8839 - val_loss: 0.2758 - val_accuracy: 0.9067\n",
      "Epoch 16/100\n",
      "88/88 [==============================] - 0s 513us/step - loss: 0.2822 - accuracy: 0.8875 - val_loss: 0.3000 - val_accuracy: 0.8917\n",
      "Epoch 17/100\n",
      "88/88 [==============================] - 0s 521us/step - loss: 0.2858 - accuracy: 0.8861 - val_loss: 0.2812 - val_accuracy: 0.9083\n",
      "Epoch 18/100\n",
      "88/88 [==============================] - 0s 514us/step - loss: 0.2729 - accuracy: 0.8943 - val_loss: 0.2742 - val_accuracy: 0.9117\n",
      "Epoch 19/100\n",
      "88/88 [==============================] - 0s 518us/step - loss: 0.2748 - accuracy: 0.8889 - val_loss: 0.2909 - val_accuracy: 0.8967\n",
      "Epoch 20/100\n",
      "88/88 [==============================] - 0s 518us/step - loss: 0.2797 - accuracy: 0.8879 - val_loss: 0.2812 - val_accuracy: 0.9100\n",
      "Epoch 21/100\n",
      "88/88 [==============================] - 0s 501us/step - loss: 0.2781 - accuracy: 0.8882 - val_loss: 0.2750 - val_accuracy: 0.8917\n",
      "Epoch 22/100\n",
      "88/88 [==============================] - 0s 502us/step - loss: 0.2693 - accuracy: 0.8954 - val_loss: 0.2634 - val_accuracy: 0.9117\n",
      "Epoch 23/100\n",
      "88/88 [==============================] - 0s 514us/step - loss: 0.2862 - accuracy: 0.8925 - val_loss: 0.2691 - val_accuracy: 0.9117\n",
      "Epoch 24/100\n",
      "88/88 [==============================] - 0s 501us/step - loss: 0.2742 - accuracy: 0.8918 - val_loss: 0.2669 - val_accuracy: 0.9167\n",
      "Epoch 25/100\n",
      "88/88 [==============================] - 0s 500us/step - loss: 0.2555 - accuracy: 0.9004 - val_loss: 0.2585 - val_accuracy: 0.9133\n",
      "Epoch 26/100\n",
      "88/88 [==============================] - 0s 515us/step - loss: 0.2700 - accuracy: 0.8964 - val_loss: 0.2547 - val_accuracy: 0.9250\n",
      "Epoch 27/100\n",
      "88/88 [==============================] - 0s 512us/step - loss: 0.2612 - accuracy: 0.8896 - val_loss: 0.2959 - val_accuracy: 0.8950\n",
      "Epoch 28/100\n",
      "88/88 [==============================] - 0s 496us/step - loss: 0.2599 - accuracy: 0.8989 - val_loss: 0.2548 - val_accuracy: 0.9183\n",
      "Epoch 29/100\n",
      "88/88 [==============================] - 0s 500us/step - loss: 0.2656 - accuracy: 0.8889 - val_loss: 0.2826 - val_accuracy: 0.9217\n",
      "Epoch 30/100\n",
      "88/88 [==============================] - 0s 501us/step - loss: 0.2687 - accuracy: 0.8989 - val_loss: 0.2695 - val_accuracy: 0.9167\n",
      "Epoch 31/100\n",
      "88/88 [==============================] - 0s 498us/step - loss: 0.2632 - accuracy: 0.9032 - val_loss: 0.2691 - val_accuracy: 0.9217\n",
      "19/19 [==============================] - 0s 295us/step - loss: 0.2691 - accuracy: 0.9217\n"
     ]
    },
    {
     "data": {
      "text/plain": [
       "[0.2690736651420593, 0.92166668176651]"
      ]
     },
     "execution_count": 43,
     "metadata": {},
     "output_type": "execute_result"
    }
   ],
   "source": [
    "def build_model(hp):\n",
    "    model = keras.Sequential()\n",
    "\n",
    "    for i in range(hp.Int('num_layers', 1, 5)):\n",
    "        model.add(layers.Dense(units=hp.Int('units_' + str(i),\n",
    "                                            min_value=5,\n",
    "                                            max_value=50,\n",
    "                                            step=5),\n",
    "                               activation='relu'))\n",
    "        model.add(Dropout(rate=0.2))\n",
    "\n",
    "    model.add(layers.Dense(1, activation='sigmoid'))\n",
    "\n",
    "    hp_learning_rate = hp.Choice('learning_rate', values=[1e-2, 1e-3, 1e-4])\n",
    "\n",
    "    optimizer_choice = hp.Choice('optimizer', values=['adam', 'rmsprop', 'sgd'])\n",
    "\n",
    "    if optimizer_choice == 'adam':\n",
    "        optimizer = tf.keras.optimizers.Adam(learning_rate=hp_learning_rate)\n",
    "    elif optimizer_choice == 'rmsprop':\n",
    "        optimizer = tf.keras.optimizers.RMSprop(learning_rate=hp_learning_rate)\n",
    "    else:\n",
    "        optimizer = tf.keras.optimizers.SGD(learning_rate=hp_learning_rate)\n",
    "\n",
    "    model.compile(optimizer=optimizer,\n",
    "                  loss=tf.keras.losses.binary_crossentropy,\n",
    "                  metrics=['accuracy'])\n",
    "\n",
    "    return model\n",
    "\n",
    "tuner = RandomSearch(\n",
    "    build_model,\n",
    "    objective='val_accuracy', \n",
    "    max_trials=5,  \n",
    "    executions_per_trial=1,  \n",
    "    directory='keras_tuner_logs',  \n",
    "    project_name='binary_classification') \n",
    "\n",
    "tuner.search(xtrain, ytrain, epochs=100, validation_data=(xval, yval), callbacks=[EarlyStopping(monitor='val_loss', patience=5)])\n",
    "\n",
    "best_hps = tuner.get_best_hyperparameters(num_trials=1)[0]\n",
    "\n",
    "fnn2 = tuner.hypermodel.build(best_hps)\n",
    "\n",
    "history = fnn2.fit(xtrain, ytrain, epochs=100, validation_data=(xval, yval), callbacks=[EarlyStopping(monitor='val_loss', patience=5)])\n",
    "\n",
    "fnn2.evaluate(xval, yval)\n"
   ]
  },
  {
   "cell_type": "code",
   "execution_count": 44,
   "metadata": {},
   "outputs": [
    {
     "name": "stdout",
     "output_type": "stream",
     "text": [
      "19/19 [==============================] - 0s 353us/step - loss: 0.2814 - accuracy: 0.8967\n",
      "Model loss on Test set: 0.2814432382583618\n",
      "Model accuracy on Test set: 0.8966666460037231\n"
     ]
    }
   ],
   "source": [
    "loss, accuracy = fnn2.evaluate(xtest, ytest)\n",
    "print(f'Model loss on Test set: {loss}')\n",
    "print(f'Model accuracy on Test set: {accuracy}')"
   ]
  },
  {
   "cell_type": "code",
   "execution_count": null,
   "metadata": {},
   "outputs": [],
   "source": []
  }
 ],
 "metadata": {
  "kernelspec": {
   "display_name": "py3818",
   "language": "python",
   "name": "python3"
  },
  "language_info": {
   "codemirror_mode": {
    "name": "ipython",
    "version": 3
   },
   "file_extension": ".py",
   "mimetype": "text/x-python",
   "name": "python",
   "nbconvert_exporter": "python",
   "pygments_lexer": "ipython3",
   "version": "3.8.18"
  }
 },
 "nbformat": 4,
 "nbformat_minor": 2
}
